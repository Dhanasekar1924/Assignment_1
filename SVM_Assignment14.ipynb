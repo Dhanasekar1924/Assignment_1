{
 "cells": [
  {
   "cell_type": "code",
   "execution_count": null,
   "metadata": {
    "id": "OTEpzVunhgga"
   },
   "outputs": [],
   "source": [
    "#Social_Network_Ads.csv"
   ]
  },
  {
   "cell_type": "markdown",
   "metadata": {
    "id": "Qa5Bo_A9h3kB"
   },
   "source": [
    "**Import libraries**"
   ]
  },
  {
   "cell_type": "code",
   "execution_count": 1,
   "metadata": {
    "id": "pFIDCPu9h1DO"
   },
   "outputs": [],
   "source": [
    "import pandas as pd\n",
    "import numpy as np\n",
    "from sklearn.preprocessing import LabelEncoder\n",
    "from sklearn.model_selection import train_test_split\n",
    "from sklearn.preprocessing import StandardScaler\n",
    "from sklearn import svm\n",
    "from sklearn.metrics import confusion_matrix\n",
    "from sklearn.metrics import accuracy_score\n",
    "import seaborn as sns\n",
    "import matplotlib.pyplot as plt\n",
    "import plotly.express as px\n",
    "from sklearn.metrics import RocCurveDisplay"
   ]
  },
  {
   "cell_type": "markdown",
   "metadata": {
    "id": "L9CQXJjkiKRq"
   },
   "source": [
    "**Importing the dataset**"
   ]
  },
  {
   "cell_type": "code",
   "execution_count": 2,
   "metadata": {
    "id": "ZNiJnC7hh1HC"
   },
   "outputs": [],
   "source": [
    "data=pd.read_csv(\"Social_Network_Ads.csv\")"
   ]
  },
  {
   "cell_type": "code",
   "execution_count": 3,
   "metadata": {
    "colab": {
     "base_uri": "https://localhost:8080/",
     "height": 206
    },
    "id": "hyCn9kKdnskA",
    "outputId": "a428e317-6fcf-491f-8921-6e06466a2289"
   },
   "outputs": [
    {
     "data": {
      "text/html": [
       "<div>\n",
       "<style scoped>\n",
       "    .dataframe tbody tr th:only-of-type {\n",
       "        vertical-align: middle;\n",
       "    }\n",
       "\n",
       "    .dataframe tbody tr th {\n",
       "        vertical-align: top;\n",
       "    }\n",
       "\n",
       "    .dataframe thead th {\n",
       "        text-align: right;\n",
       "    }\n",
       "</style>\n",
       "<table border=\"1\" class=\"dataframe\">\n",
       "  <thead>\n",
       "    <tr style=\"text-align: right;\">\n",
       "      <th></th>\n",
       "      <th>User ID</th>\n",
       "      <th>Gender</th>\n",
       "      <th>Age</th>\n",
       "      <th>EstimatedSalary</th>\n",
       "      <th>Purchased</th>\n",
       "    </tr>\n",
       "  </thead>\n",
       "  <tbody>\n",
       "    <tr>\n",
       "      <th>0</th>\n",
       "      <td>15624510</td>\n",
       "      <td>Male</td>\n",
       "      <td>19</td>\n",
       "      <td>19000</td>\n",
       "      <td>0</td>\n",
       "    </tr>\n",
       "    <tr>\n",
       "      <th>1</th>\n",
       "      <td>15810944</td>\n",
       "      <td>Male</td>\n",
       "      <td>35</td>\n",
       "      <td>20000</td>\n",
       "      <td>0</td>\n",
       "    </tr>\n",
       "    <tr>\n",
       "      <th>2</th>\n",
       "      <td>15668575</td>\n",
       "      <td>Female</td>\n",
       "      <td>26</td>\n",
       "      <td>43000</td>\n",
       "      <td>0</td>\n",
       "    </tr>\n",
       "    <tr>\n",
       "      <th>3</th>\n",
       "      <td>15603246</td>\n",
       "      <td>Female</td>\n",
       "      <td>27</td>\n",
       "      <td>57000</td>\n",
       "      <td>0</td>\n",
       "    </tr>\n",
       "    <tr>\n",
       "      <th>4</th>\n",
       "      <td>15804002</td>\n",
       "      <td>Male</td>\n",
       "      <td>19</td>\n",
       "      <td>76000</td>\n",
       "      <td>0</td>\n",
       "    </tr>\n",
       "  </tbody>\n",
       "</table>\n",
       "</div>"
      ],
      "text/plain": [
       "    User ID  Gender  Age  EstimatedSalary  Purchased\n",
       "0  15624510    Male   19            19000          0\n",
       "1  15810944    Male   35            20000          0\n",
       "2  15668575  Female   26            43000          0\n",
       "3  15603246  Female   27            57000          0\n",
       "4  15804002    Male   19            76000          0"
      ]
     },
     "execution_count": 3,
     "metadata": {},
     "output_type": "execute_result"
    }
   ],
   "source": [
    "data.head()"
   ]
  },
  {
   "cell_type": "markdown",
   "metadata": {
    "id": "GpelPvR4iSxv"
   },
   "source": [
    "**Splitting the dataset into the Training set and Test set**"
   ]
  },
  {
   "cell_type": "code",
   "execution_count": 4,
   "metadata": {
    "id": "eROg-IDUh1JZ"
   },
   "outputs": [],
   "source": [
    "le=LabelEncoder()\n",
    "data['Gender']=le.fit_transform(data['Gender'])"
   ]
  },
  {
   "cell_type": "code",
   "execution_count": 5,
   "metadata": {
    "colab": {
     "base_uri": "https://localhost:8080/",
     "height": 206
    },
    "id": "7kHvWLIMn5m4",
    "outputId": "c7b2468d-7b67-4a24-bcdc-ce0bf329224b"
   },
   "outputs": [
    {
     "data": {
      "text/html": [
       "<div>\n",
       "<style scoped>\n",
       "    .dataframe tbody tr th:only-of-type {\n",
       "        vertical-align: middle;\n",
       "    }\n",
       "\n",
       "    .dataframe tbody tr th {\n",
       "        vertical-align: top;\n",
       "    }\n",
       "\n",
       "    .dataframe thead th {\n",
       "        text-align: right;\n",
       "    }\n",
       "</style>\n",
       "<table border=\"1\" class=\"dataframe\">\n",
       "  <thead>\n",
       "    <tr style=\"text-align: right;\">\n",
       "      <th></th>\n",
       "      <th>User ID</th>\n",
       "      <th>Gender</th>\n",
       "      <th>Age</th>\n",
       "      <th>EstimatedSalary</th>\n",
       "      <th>Purchased</th>\n",
       "    </tr>\n",
       "  </thead>\n",
       "  <tbody>\n",
       "    <tr>\n",
       "      <th>0</th>\n",
       "      <td>15624510</td>\n",
       "      <td>1</td>\n",
       "      <td>19</td>\n",
       "      <td>19000</td>\n",
       "      <td>0</td>\n",
       "    </tr>\n",
       "    <tr>\n",
       "      <th>1</th>\n",
       "      <td>15810944</td>\n",
       "      <td>1</td>\n",
       "      <td>35</td>\n",
       "      <td>20000</td>\n",
       "      <td>0</td>\n",
       "    </tr>\n",
       "    <tr>\n",
       "      <th>2</th>\n",
       "      <td>15668575</td>\n",
       "      <td>0</td>\n",
       "      <td>26</td>\n",
       "      <td>43000</td>\n",
       "      <td>0</td>\n",
       "    </tr>\n",
       "    <tr>\n",
       "      <th>3</th>\n",
       "      <td>15603246</td>\n",
       "      <td>0</td>\n",
       "      <td>27</td>\n",
       "      <td>57000</td>\n",
       "      <td>0</td>\n",
       "    </tr>\n",
       "    <tr>\n",
       "      <th>4</th>\n",
       "      <td>15804002</td>\n",
       "      <td>1</td>\n",
       "      <td>19</td>\n",
       "      <td>76000</td>\n",
       "      <td>0</td>\n",
       "    </tr>\n",
       "  </tbody>\n",
       "</table>\n",
       "</div>"
      ],
      "text/plain": [
       "    User ID  Gender  Age  EstimatedSalary  Purchased\n",
       "0  15624510       1   19            19000          0\n",
       "1  15810944       1   35            20000          0\n",
       "2  15668575       0   26            43000          0\n",
       "3  15603246       0   27            57000          0\n",
       "4  15804002       1   19            76000          0"
      ]
     },
     "execution_count": 5,
     "metadata": {},
     "output_type": "execute_result"
    }
   ],
   "source": [
    "data.head()"
   ]
  },
  {
   "cell_type": "code",
   "execution_count": 6,
   "metadata": {
    "id": "gDj0YVbvn5pX"
   },
   "outputs": [],
   "source": [
    "X=data.drop(columns=['Purchased','User ID'])\n",
    "Y=data['Purchased']"
   ]
  },
  {
   "cell_type": "code",
   "execution_count": 7,
   "metadata": {
    "colab": {
     "base_uri": "https://localhost:8080/",
     "height": 424
    },
    "id": "ASy1FJUvn5r_",
    "outputId": "50a39af5-7771-4c95-c792-9e86bc1e4a35"
   },
   "outputs": [
    {
     "data": {
      "text/html": [
       "<div>\n",
       "<style scoped>\n",
       "    .dataframe tbody tr th:only-of-type {\n",
       "        vertical-align: middle;\n",
       "    }\n",
       "\n",
       "    .dataframe tbody tr th {\n",
       "        vertical-align: top;\n",
       "    }\n",
       "\n",
       "    .dataframe thead th {\n",
       "        text-align: right;\n",
       "    }\n",
       "</style>\n",
       "<table border=\"1\" class=\"dataframe\">\n",
       "  <thead>\n",
       "    <tr style=\"text-align: right;\">\n",
       "      <th></th>\n",
       "      <th>Gender</th>\n",
       "      <th>Age</th>\n",
       "      <th>EstimatedSalary</th>\n",
       "    </tr>\n",
       "  </thead>\n",
       "  <tbody>\n",
       "    <tr>\n",
       "      <th>0</th>\n",
       "      <td>1</td>\n",
       "      <td>19</td>\n",
       "      <td>19000</td>\n",
       "    </tr>\n",
       "    <tr>\n",
       "      <th>1</th>\n",
       "      <td>1</td>\n",
       "      <td>35</td>\n",
       "      <td>20000</td>\n",
       "    </tr>\n",
       "    <tr>\n",
       "      <th>2</th>\n",
       "      <td>0</td>\n",
       "      <td>26</td>\n",
       "      <td>43000</td>\n",
       "    </tr>\n",
       "    <tr>\n",
       "      <th>3</th>\n",
       "      <td>0</td>\n",
       "      <td>27</td>\n",
       "      <td>57000</td>\n",
       "    </tr>\n",
       "    <tr>\n",
       "      <th>4</th>\n",
       "      <td>1</td>\n",
       "      <td>19</td>\n",
       "      <td>76000</td>\n",
       "    </tr>\n",
       "    <tr>\n",
       "      <th>...</th>\n",
       "      <td>...</td>\n",
       "      <td>...</td>\n",
       "      <td>...</td>\n",
       "    </tr>\n",
       "    <tr>\n",
       "      <th>395</th>\n",
       "      <td>0</td>\n",
       "      <td>46</td>\n",
       "      <td>41000</td>\n",
       "    </tr>\n",
       "    <tr>\n",
       "      <th>396</th>\n",
       "      <td>1</td>\n",
       "      <td>51</td>\n",
       "      <td>23000</td>\n",
       "    </tr>\n",
       "    <tr>\n",
       "      <th>397</th>\n",
       "      <td>0</td>\n",
       "      <td>50</td>\n",
       "      <td>20000</td>\n",
       "    </tr>\n",
       "    <tr>\n",
       "      <th>398</th>\n",
       "      <td>1</td>\n",
       "      <td>36</td>\n",
       "      <td>33000</td>\n",
       "    </tr>\n",
       "    <tr>\n",
       "      <th>399</th>\n",
       "      <td>0</td>\n",
       "      <td>49</td>\n",
       "      <td>36000</td>\n",
       "    </tr>\n",
       "  </tbody>\n",
       "</table>\n",
       "<p>400 rows × 3 columns</p>\n",
       "</div>"
      ],
      "text/plain": [
       "     Gender  Age  EstimatedSalary\n",
       "0         1   19            19000\n",
       "1         1   35            20000\n",
       "2         0   26            43000\n",
       "3         0   27            57000\n",
       "4         1   19            76000\n",
       "..      ...  ...              ...\n",
       "395       0   46            41000\n",
       "396       1   51            23000\n",
       "397       0   50            20000\n",
       "398       1   36            33000\n",
       "399       0   49            36000\n",
       "\n",
       "[400 rows x 3 columns]"
      ]
     },
     "execution_count": 7,
     "metadata": {},
     "output_type": "execute_result"
    }
   ],
   "source": [
    "X"
   ]
  },
  {
   "cell_type": "code",
   "execution_count": 8,
   "metadata": {
    "colab": {
     "base_uri": "https://localhost:8080/"
    },
    "id": "N-RGwTKin5t-",
    "outputId": "74c3cc35-51c1-42f3-acc8-8d06cba58d7a"
   },
   "outputs": [
    {
     "data": {
      "text/plain": [
       "0      0\n",
       "1      0\n",
       "2      0\n",
       "3      0\n",
       "4      0\n",
       "      ..\n",
       "395    1\n",
       "396    1\n",
       "397    1\n",
       "398    0\n",
       "399    1\n",
       "Name: Purchased, Length: 400, dtype: int64"
      ]
     },
     "execution_count": 8,
     "metadata": {},
     "output_type": "execute_result"
    }
   ],
   "source": [
    "Y"
   ]
  },
  {
   "cell_type": "code",
   "execution_count": 9,
   "metadata": {
    "id": "qSx8KutMn5wO"
   },
   "outputs": [],
   "source": [
    "x_train,x_test,y_train,y_test=train_test_split(X,Y,test_size=0.2,random_state=10)"
   ]
  },
  {
   "cell_type": "markdown",
   "metadata": {
    "id": "cwBqfX6WiZOx"
   },
   "source": [
    "**Feature Scaling**"
   ]
  },
  {
   "cell_type": "code",
   "execution_count": 10,
   "metadata": {
    "id": "yCcfuhv_h1Lw"
   },
   "outputs": [],
   "source": [
    "scaler = StandardScaler()\n",
    "x_train = scaler.fit_transform(x_train)\n",
    "x_test = scaler.transform(x_test)\n"
   ]
  },
  {
   "cell_type": "code",
   "execution_count": 11,
   "metadata": {
    "colab": {
     "base_uri": "https://localhost:8080/"
    },
    "id": "oJYmBMcRoTy_",
    "outputId": "3b8e8d6c-f2f1-433f-9c43-973f9d576363"
   },
   "outputs": [
    {
     "data": {
      "text/plain": [
       "array([[ 1.04475034, -0.03449842,  0.26845438],\n",
       "       [ 1.04475034,  0.06066963, -0.25929212],\n",
       "       [ 1.04475034, -1.65235532,  0.12185813],\n",
       "       [ 1.04475034, -0.98617895,  0.53232764],\n",
       "       [-0.95716648, -1.36685117, -1.22682738],\n",
       "       [-0.95716648, -0.51033869,  0.47368914],\n",
       "       [ 1.04475034, -1.55718727,  0.53232764],\n",
       "       [ 1.04475034, -0.8910109 ,  0.56164689],\n",
       "       [-0.95716648, -1.74752338, -1.28546588],\n",
       "       [ 1.04475034, -0.60550674,  0.18049663],\n",
       "       [ 1.04475034,  1.77369459, -0.28861137],\n",
       "       [-0.95716648, -0.60550674, -0.05405737],\n",
       "       [ 1.04475034, -0.22483453, -1.40274288],\n",
       "       [-0.95716648,  2.05919875, -0.81635787],\n",
       "       [-0.95716648, -1.08134701,  0.29777364],\n",
       "       [ 1.04475034, -1.84269143, -0.52316537],\n",
       "       [-0.95716648,  1.48819043,  1.00143564],\n",
       "       [ 1.04475034, -0.98617895,  0.59096614],\n",
       "       [-0.95716648, -0.60550674,  0.03390038],\n",
       "       [ 1.04475034, -0.70067479,  0.29777364],\n",
       "       [ 1.04475034, -0.8910109 ,  0.26845438],\n",
       "       [-0.95716648, -0.8910109 ,  0.44436989],\n",
       "       [-0.95716648,  0.34617379,  0.06321963],\n",
       "       [ 1.04475034,  2.15436681, -1.05091188],\n",
       "       [-0.95716648,  0.82201406,  0.35641214],\n",
       "       [ 1.04475034,  0.91718211, -1.05091188],\n",
       "       [-0.95716648, -0.41517063, -0.02473812],\n",
       "       [ 1.04475034, -1.08134701, -1.60797763],\n",
       "       [ 1.04475034, -0.12966647,  2.17420565],\n",
       "       [ 1.04475034, -0.22483453, -0.93363487],\n",
       "       [ 1.04475034, -0.60550674, -1.52001988],\n",
       "       [-0.95716648,  1.39302238,  1.29462814],\n",
       "       [ 1.04475034, -0.32000258, -0.78703862],\n",
       "       [ 1.04475034, -1.17651506,  0.29777364],\n",
       "       [ 1.04475034,  1.48819043,  0.06321963],\n",
       "       [ 1.04475034,  0.72684601, -1.28546588],\n",
       "       [ 1.04475034, -0.03449842, -0.49384612],\n",
       "       [ 1.04475034,  2.15436681,  0.94279714],\n",
       "       [-0.95716648, -0.51033869,  1.38258589],\n",
       "       [ 1.04475034,  0.44134185,  0.29777364],\n",
       "       [-0.95716648,  1.10751822, -0.99227337],\n",
       "       [ 1.04475034,  0.91718211, -1.46138138],\n",
       "       [-0.95716648,  1.20268627, -0.99227337],\n",
       "       [-0.95716648, -0.22483453,  0.20981588],\n",
       "       [ 1.04475034, -0.60550674, -0.34724987],\n",
       "       [ 1.04475034,  0.44134185, -0.17133437],\n",
       "       [ 1.04475034,  0.5365099 ,  1.7344169 ],\n",
       "       [ 1.04475034,  0.72684601, -1.40274288],\n",
       "       [ 1.04475034, -0.79584285, -0.78703862],\n",
       "       [-0.95716648,  1.9640307 ,  0.73756239],\n",
       "       [-0.95716648,  0.34617379, -0.55248462],\n",
       "       [-0.95716648, -0.22483453,  0.79620089],\n",
       "       [ 1.04475034, -0.79584285,  0.15117738],\n",
       "       [ 1.04475034,  0.25100574, -0.37656912],\n",
       "       [-0.95716648,  0.34617379, -1.16818888],\n",
       "       [ 1.04475034,  1.86886265,  0.12185813],\n",
       "       [ 1.04475034,  0.72684601, -1.10955038],\n",
       "       [-0.95716648, -0.41517063, -1.22682738],\n",
       "       [-0.95716648, -0.22483453,  2.2621634 ],\n",
       "       [ 1.04475034, -0.22483453, -0.25929212],\n",
       "       [-0.95716648,  0.15583769,  0.09253888],\n",
       "       [ 1.04475034,  1.10751822,  0.56164689],\n",
       "       [-0.95716648,  1.01235017, -1.16818888],\n",
       "       [-0.95716648,  1.29785433,  2.23284415],\n",
       "       [-0.95716648, -0.98617895,  0.76688164],\n",
       "       [-0.95716648,  1.58335849,  1.00143564],\n",
       "       [ 1.04475034, -0.22483453, -1.25614663],\n",
       "       [ 1.04475034,  0.34617379,  0.06321963],\n",
       "       [-0.95716648,  1.01235017, -1.19750813],\n",
       "       [-0.95716648,  0.82201406,  0.76688164],\n",
       "       [ 1.04475034,  0.25100574, -0.25929212],\n",
       "       [ 1.04475034, -1.08134701,  0.47368914],\n",
       "       [ 1.04475034, -0.98617895, -0.34724987],\n",
       "       [-0.95716648, -0.32000258,  0.06321963],\n",
       "       [-0.95716648,  1.9640307 , -0.93363487],\n",
       "       [-0.95716648,  0.91718211, -0.55248462],\n",
       "       [-0.95716648,  1.67852654,  1.61713989],\n",
       "       [-0.95716648, -1.74752338, -1.43206213],\n",
       "       [ 1.04475034,  1.29785433, -1.37342363],\n",
       "       [ 1.04475034,  1.39302238,  2.35012115],\n",
       "       [ 1.04475034, -0.98617895, -1.46138138],\n",
       "       [-0.95716648,  0.91718211, -0.61112312],\n",
       "       [ 1.04475034,  0.82201406,  1.38258589],\n",
       "       [-0.95716648, -1.08134701, -1.02159262],\n",
       "       [ 1.04475034, -1.74752338, -1.31478513],\n",
       "       [ 1.04475034, -1.08134701, -1.10955038],\n",
       "       [-0.95716648, -0.60550674,  0.56164689],\n",
       "       [-0.95716648,  1.20268627,  0.53232764],\n",
       "       [ 1.04475034, -1.46201922, -1.52001988],\n",
       "       [-0.95716648, -0.22483453,  0.03390038],\n",
       "       [ 1.04475034, -0.32000258,  1.23598964],\n",
       "       [ 1.04475034,  0.34617379,  0.26845438],\n",
       "       [ 1.04475034,  0.15583769,  0.03390038],\n",
       "       [ 1.04475034,  0.25100574,  0.15117738],\n",
       "       [ 1.04475034, -0.79584285, -0.25929212],\n",
       "       [-0.95716648, -1.08134701,  0.06321963],\n",
       "       [-0.95716648, -0.03449842,  1.9689709 ],\n",
       "       [-0.95716648, -0.41517063, -0.28861137],\n",
       "       [ 1.04475034, -0.03449842, -0.52316537],\n",
       "       [ 1.04475034, -0.8910109 , -1.10955038],\n",
       "       [ 1.04475034, -0.70067479,  0.50300839],\n",
       "       [ 1.04475034, -0.12966647, -0.52316537],\n",
       "       [ 1.04475034,  1.01235017,  0.12185813],\n",
       "       [-0.95716648, -1.46201922, -0.20065362],\n",
       "       [ 1.04475034, -0.22483453,  0.06321963],\n",
       "       [ 1.04475034, -1.74752338, -1.49070063],\n",
       "       [-0.95716648, -1.27168311, -1.10955038],\n",
       "       [-0.95716648, -0.22483453, -0.37656912],\n",
       "       [-0.95716648,  0.82201406,  0.12185813],\n",
       "       [ 1.04475034, -0.12966647,  1.41190514],\n",
       "       [-0.95716648, -1.27168311, -0.43520762],\n",
       "       [-0.95716648,  0.91718211,  1.08939339],\n",
       "       [ 1.04475034,  0.44134185,  2.3208019 ],\n",
       "       [ 1.04475034, -0.12966647,  1.61713989],\n",
       "       [ 1.04475034, -0.22483453,  0.53232764],\n",
       "       [-0.95716648, -0.60550674, -1.60797763],\n",
       "       [-0.95716648,  0.15583769,  1.88101315],\n",
       "       [ 1.04475034, -0.98617895,  0.56164689],\n",
       "       [ 1.04475034, -0.51033869,  1.47054364],\n",
       "       [-0.95716648, -1.08134701,  0.41505064],\n",
       "       [ 1.04475034, -0.22483453,  0.26845438],\n",
       "       [ 1.04475034,  0.44134185,  0.09253888],\n",
       "       [-0.95716648,  1.58335849,  1.11871264],\n",
       "       [-0.95716648,  0.44134185,  0.00458113],\n",
       "       [-0.95716648,  0.25100574,  0.06321963],\n",
       "       [-0.95716648, -1.65235532, -0.99227337],\n",
       "       [-0.95716648, -1.65235532,  0.35641214],\n",
       "       [ 1.04475034, -1.27168311, -0.43520762],\n",
       "       [ 1.04475034, -0.03449842,  0.00458113],\n",
       "       [ 1.04475034, -0.51033869,  0.88415864],\n",
       "       [ 1.04475034, -1.17651506,  0.26845438],\n",
       "       [-0.95716648, -0.22483453,  0.06321963],\n",
       "       [-0.95716648, -0.03449842, -1.08023113],\n",
       "       [-0.95716648,  0.15583769,  0.15117738],\n",
       "       [-0.95716648,  0.06066963, -0.43520762],\n",
       "       [-0.95716648, -0.22483453, -0.66976162],\n",
       "       [-0.95716648, -0.70067479, -0.22997287],\n",
       "       [ 1.04475034,  1.9640307 ,  2.17420565],\n",
       "       [ 1.04475034,  0.25100574,  0.03390038],\n",
       "       [ 1.04475034, -0.22483453,  0.15117738],\n",
       "       [ 1.04475034,  0.06066963,  0.03390038],\n",
       "       [-0.95716648,  0.5365099 ,  1.8516939 ],\n",
       "       [ 1.04475034, -1.74752338,  0.00458113],\n",
       "       [-0.95716648, -1.08134701, -0.78703862],\n",
       "       [ 1.04475034, -0.70067479,  1.08939339],\n",
       "       [ 1.04475034,  0.25100574, -0.37656912],\n",
       "       [-0.95716648,  0.06066963,  1.26530889],\n",
       "       [ 1.04475034, -0.22483453,  0.15117738],\n",
       "       [-0.95716648, -0.12966647,  0.15117738],\n",
       "       [ 1.04475034, -1.08134701,  0.29777364],\n",
       "       [ 1.04475034,  0.44134185,  1.00143564],\n",
       "       [-0.95716648, -0.70067479,  0.26845438],\n",
       "       [-0.95716648,  1.9640307 ,  0.91347789],\n",
       "       [ 1.04475034, -1.08134701, -1.57865838],\n",
       "       [ 1.04475034,  1.10751822, -1.22682738],\n",
       "       [ 1.04475034,  0.44134185, -0.46452687],\n",
       "       [-0.95716648, -1.55718727, -1.57865838],\n",
       "       [-0.95716648,  1.01235017,  1.7930554 ],\n",
       "       [-0.95716648, -0.51033869,  2.35012115],\n",
       "       [-0.95716648, -0.22483453, -0.14201512],\n",
       "       [-0.95716648, -0.41517063,  2.3208019 ],\n",
       "       [-0.95716648, -0.70067479,  1.35326664],\n",
       "       [-0.95716648, -0.98617895, -1.13886963],\n",
       "       [ 1.04475034, -0.79584285, -0.78703862],\n",
       "       [-0.95716648, -0.03449842, -0.37656912],\n",
       "       [-0.95716648,  2.15436681,  1.11871264],\n",
       "       [-0.95716648, -0.12966647, -0.46452687],\n",
       "       [ 1.04475034, -1.17651506,  0.59096614],\n",
       "       [-0.95716648, -0.79584285, -0.66976162],\n",
       "       [-0.95716648,  2.15436681, -0.69908087],\n",
       "       [ 1.04475034, -1.27168311,  0.41505064],\n",
       "       [-0.95716648,  0.72684601,  1.7930554 ],\n",
       "       [-0.95716648,  1.01235017,  1.99829015],\n",
       "       [-0.95716648,  1.67852654,  1.76373615],\n",
       "       [-0.95716648, -0.12966647, -0.58180387],\n",
       "       [ 1.04475034,  0.25100574,  0.23913513],\n",
       "       [-0.95716648,  0.15583769, -0.31793062],\n",
       "       [ 1.04475034, -0.60550674,  0.12185813],\n",
       "       [-0.95716648,  1.39302238,  0.59096614],\n",
       "       [ 1.04475034, -0.22483453, -0.34724987],\n",
       "       [-0.95716648, -1.65235532,  0.35641214],\n",
       "       [ 1.04475034,  1.86886265, -0.28861137],\n",
       "       [-0.95716648,  0.06066963, -0.58180387],\n",
       "       [ 1.04475034, -0.79584285,  2.29148265],\n",
       "       [-0.95716648,  1.01235017, -1.02159262],\n",
       "       [-0.95716648,  0.44134185,  0.29777364],\n",
       "       [-0.95716648, -0.22483453, -0.28861137],\n",
       "       [ 1.04475034, -0.32000258,  1.32394739],\n",
       "       [ 1.04475034,  1.10751822,  0.53232764],\n",
       "       [ 1.04475034, -0.03449842,  0.12185813],\n",
       "       [ 1.04475034,  0.25100574, -0.37656912],\n",
       "       [-0.95716648,  0.15583769,  0.26845438],\n",
       "       [ 1.04475034, -0.70067479,  1.9103324 ],\n",
       "       [ 1.04475034, -0.12966647,  0.85483939],\n",
       "       [-0.95716648,  0.44134185,  0.15117738],\n",
       "       [ 1.04475034, -0.12966647, -0.28861137],\n",
       "       [ 1.04475034, -1.65235532, -0.61112312],\n",
       "       [-0.95716648, -0.22483453, -0.75771937],\n",
       "       [-0.95716648, -1.36685117,  0.35641214],\n",
       "       [-0.95716648, -0.22483453, -1.31478513],\n",
       "       [ 1.04475034,  1.01235017, -0.84567712],\n",
       "       [-0.95716648,  1.20268627, -0.75771937],\n",
       "       [-0.95716648,  0.34617379,  0.06321963],\n",
       "       [-0.95716648,  0.06066963, -0.58180387],\n",
       "       [-0.95716648, -0.51033869,  1.9103324 ],\n",
       "       [-0.95716648,  0.91718211,  1.26530889],\n",
       "       [-0.95716648, -0.32000258, -1.31478513],\n",
       "       [-0.95716648,  0.82201406, -1.40274288],\n",
       "       [-0.95716648,  2.05919875, -1.19750813],\n",
       "       [-0.95716648,  1.48819043, -1.05091188],\n",
       "       [ 1.04475034, -1.46201922,  0.32709289],\n",
       "       [-0.95716648, -0.41517063, -0.55248462],\n",
       "       [ 1.04475034,  1.10751822,  0.47368914],\n",
       "       [-0.95716648,  0.5365099 ,  1.23598964],\n",
       "       [-0.95716648,  0.34617379, -0.28861137],\n",
       "       [-0.95716648, -0.22483453, -1.37342363],\n",
       "       [ 1.04475034, -1.27168311, -1.37342363],\n",
       "       [ 1.04475034,  0.15583769,  1.06007414],\n",
       "       [ 1.04475034,  0.91718211, -1.37342363],\n",
       "       [ 1.04475034, -0.22483453, -0.43520762],\n",
       "       [-0.95716648, -1.84269143, -0.75771937],\n",
       "       [ 1.04475034, -1.84269143,  0.35641214],\n",
       "       [ 1.04475034,  0.34617379, -0.52316537],\n",
       "       [ 1.04475034,  2.15436681, -0.81635787],\n",
       "       [-0.95716648, -0.03449842,  0.67892389],\n",
       "       [-0.95716648, -0.98617895, -0.37656912],\n",
       "       [-0.95716648,  0.72684601, -1.40274288],\n",
       "       [ 1.04475034, -0.70067479, -1.54933913],\n",
       "       [-0.95716648, -1.84269143,  0.47368914],\n",
       "       [ 1.04475034,  1.10751822,  0.12185813],\n",
       "       [ 1.04475034, -1.36685117, -1.46138138],\n",
       "       [ 1.04475034,  0.25100574, -0.14201512],\n",
       "       [ 1.04475034,  0.82201406,  0.26845438],\n",
       "       [ 1.04475034,  0.44134185, -0.46452687],\n",
       "       [-0.95716648, -0.03449842,  0.29777364],\n",
       "       [ 1.04475034, -0.22483453,  1.11871264],\n",
       "       [ 1.04475034,  0.25100574,  1.08939339],\n",
       "       [-0.95716648, -1.08134701, -1.54933913],\n",
       "       [ 1.04475034, -0.60550674, -0.11269587],\n",
       "       [ 1.04475034,  0.34617379,  0.50300839],\n",
       "       [-0.95716648,  0.34617379,  0.29777364],\n",
       "       [-0.95716648,  0.91718211,  2.17420565],\n",
       "       [ 1.04475034,  0.06066963, -0.25929212],\n",
       "       [-0.95716648, -1.08134701, -0.52316537],\n",
       "       [-0.95716648, -1.08134701, -1.60797763],\n",
       "       [-0.95716648,  0.06066963,  1.23598964],\n",
       "       [-0.95716648, -0.60550674,  1.41190514],\n",
       "       [-0.95716648, -0.22483453, -0.58180387],\n",
       "       [-0.95716648, -0.8910109 , -0.43520762],\n",
       "       [ 1.04475034, -0.70067479,  0.56164689],\n",
       "       [-0.95716648,  2.05919875,  0.18049663],\n",
       "       [ 1.04475034,  0.15583769,  1.88101315],\n",
       "       [-0.95716648, -0.51033869,  1.38258589],\n",
       "       [-0.95716648,  1.29785433,  1.88101315],\n",
       "       [-0.95716648,  0.34617379, -0.20065362],\n",
       "       [ 1.04475034, -1.74752338,  0.18049663],\n",
       "       [-0.95716648, -1.55718727, -0.05405737],\n",
       "       [-0.95716648, -0.8910109 ,  0.41505064],\n",
       "       [-0.95716648,  0.63167795, -0.90431562],\n",
       "       [-0.95716648, -0.03449842,  0.23913513],\n",
       "       [ 1.04475034,  1.01235017,  2.0862479 ],\n",
       "       [-0.95716648,  0.34617379,  0.03390038],\n",
       "       [ 1.04475034, -1.36685117, -0.20065362],\n",
       "       [-0.95716648, -1.27168311,  0.56164689],\n",
       "       [ 1.04475034,  1.01235017, -1.08023113],\n",
       "       [-0.95716648, -1.27168311, -1.25614663],\n",
       "       [ 1.04475034,  0.25100574, -0.31793062],\n",
       "       [-0.95716648,  0.82201406, -1.10955038],\n",
       "       [-0.95716648,  1.20268627, -1.46138138],\n",
       "       [ 1.04475034,  1.10751822, -0.14201512],\n",
       "       [ 1.04475034, -0.51033869, -1.52001988],\n",
       "       [ 1.04475034,  2.15436681, -0.81635787],\n",
       "       [ 1.04475034,  0.34617379, -0.52316537],\n",
       "       [-0.95716648, -0.79584285,  0.38573139],\n",
       "       [-0.95716648,  1.10751822, -0.90431562],\n",
       "       [-0.95716648, -0.79584285, -1.22682738],\n",
       "       [ 1.04475034,  0.82201406, -1.22682738],\n",
       "       [-0.95716648,  1.39302238, -1.43206213],\n",
       "       [ 1.04475034,  1.67852654, -0.90431562],\n",
       "       [-0.95716648,  1.10751822,  2.0862479 ],\n",
       "       [-0.95716648, -0.98617895,  1.9689709 ],\n",
       "       [-0.95716648,  1.48819043,  0.35641214],\n",
       "       [ 1.04475034, -1.74752338,  0.44436989],\n",
       "       [ 1.04475034, -0.22483453, -0.58180387],\n",
       "       [ 1.04475034, -1.08134701, -1.16818888],\n",
       "       [-0.95716648, -0.03449842, -0.22997287],\n",
       "       [-0.95716648,  0.06066963, -0.14201512],\n",
       "       [ 1.04475034,  0.15583769,  0.20981588],\n",
       "       [-0.95716648, -1.84269143, -0.05405737],\n",
       "       [-0.95716648,  1.77369459,  1.00143564],\n",
       "       [ 1.04475034, -0.51033869, -1.52001988],\n",
       "       [-0.95716648, -1.46201922, -1.25614663],\n",
       "       [-0.95716648,  0.63167795,  2.0276094 ],\n",
       "       [-0.95716648, -0.60550674, -1.05091188],\n",
       "       [ 1.04475034, -1.17651506, -1.40274288],\n",
       "       [-0.95716648,  1.86886265, -1.08023113],\n",
       "       [ 1.04475034, -0.22483453, -0.90431562],\n",
       "       [-0.95716648, -0.8910109 , -0.75771937],\n",
       "       [-0.95716648, -1.36685117, -0.11269587],\n",
       "       [-0.95716648,  0.25100574,  0.15117738],\n",
       "       [-0.95716648,  0.44134185,  0.26845438],\n",
       "       [ 1.04475034,  0.91718211,  1.03075489],\n",
       "       [-0.95716648, -0.98617895, -0.34724987],\n",
       "       [-0.95716648,  1.48819043,  2.1448864 ],\n",
       "       [ 1.04475034,  1.58335849,  0.00458113],\n",
       "       [ 1.04475034,  0.91718211, -1.31478513],\n",
       "       [ 1.04475034,  2.15436681,  0.38573139],\n",
       "       [-0.95716648, -0.98617895, -1.54933913],\n",
       "       [-0.95716648,  0.34617379,  0.06321963],\n",
       "       [-0.95716648, -0.41517063,  1.26530889],\n",
       "       [ 1.04475034, -1.17651506, -1.08023113],\n",
       "       [-0.95716648,  0.82201406, -0.84567712],\n",
       "       [ 1.04475034, -0.22483453,  0.62028539],\n",
       "       [ 1.04475034,  0.82201406, -0.31793062],\n",
       "       [ 1.04475034, -0.22483453, -0.49384612],\n",
       "       [-0.95716648,  1.58335849, -1.28546588],\n",
       "       [-0.95716648,  1.39302238,  1.99829015],\n",
       "       [ 1.04475034, -0.79584285,  0.29777364],\n",
       "       [-0.95716648,  0.15583769, -0.25929212],\n",
       "       [-0.95716648,  0.44134185,  1.11871264]])"
      ]
     },
     "execution_count": 11,
     "metadata": {},
     "output_type": "execute_result"
    }
   ],
   "source": [
    "x_train"
   ]
  },
  {
   "cell_type": "markdown",
   "metadata": {
    "id": "OUGszSAKinhN"
   },
   "source": [
    "**Fitting SVM to the Training set**"
   ]
  },
  {
   "cell_type": "code",
   "execution_count": 12,
   "metadata": {
    "colab": {
     "base_uri": "https://localhost:8080/"
    },
    "id": "FLIzMPkOh1Ob",
    "outputId": "dad9cc1f-664f-4ea7-a873-a8668cfa26f4"
   },
   "outputs": [
    {
     "data": {
      "text/html": [
       "<style>#sk-container-id-1 {color: black;background-color: white;}#sk-container-id-1 pre{padding: 0;}#sk-container-id-1 div.sk-toggleable {background-color: white;}#sk-container-id-1 label.sk-toggleable__label {cursor: pointer;display: block;width: 100%;margin-bottom: 0;padding: 0.3em;box-sizing: border-box;text-align: center;}#sk-container-id-1 label.sk-toggleable__label-arrow:before {content: \"▸\";float: left;margin-right: 0.25em;color: #696969;}#sk-container-id-1 label.sk-toggleable__label-arrow:hover:before {color: black;}#sk-container-id-1 div.sk-estimator:hover label.sk-toggleable__label-arrow:before {color: black;}#sk-container-id-1 div.sk-toggleable__content {max-height: 0;max-width: 0;overflow: hidden;text-align: left;background-color: #f0f8ff;}#sk-container-id-1 div.sk-toggleable__content pre {margin: 0.2em;color: black;border-radius: 0.25em;background-color: #f0f8ff;}#sk-container-id-1 input.sk-toggleable__control:checked~div.sk-toggleable__content {max-height: 200px;max-width: 100%;overflow: auto;}#sk-container-id-1 input.sk-toggleable__control:checked~label.sk-toggleable__label-arrow:before {content: \"▾\";}#sk-container-id-1 div.sk-estimator input.sk-toggleable__control:checked~label.sk-toggleable__label {background-color: #d4ebff;}#sk-container-id-1 div.sk-label input.sk-toggleable__control:checked~label.sk-toggleable__label {background-color: #d4ebff;}#sk-container-id-1 input.sk-hidden--visually {border: 0;clip: rect(1px 1px 1px 1px);clip: rect(1px, 1px, 1px, 1px);height: 1px;margin: -1px;overflow: hidden;padding: 0;position: absolute;width: 1px;}#sk-container-id-1 div.sk-estimator {font-family: monospace;background-color: #f0f8ff;border: 1px dotted black;border-radius: 0.25em;box-sizing: border-box;margin-bottom: 0.5em;}#sk-container-id-1 div.sk-estimator:hover {background-color: #d4ebff;}#sk-container-id-1 div.sk-parallel-item::after {content: \"\";width: 100%;border-bottom: 1px solid gray;flex-grow: 1;}#sk-container-id-1 div.sk-label:hover label.sk-toggleable__label {background-color: #d4ebff;}#sk-container-id-1 div.sk-serial::before {content: \"\";position: absolute;border-left: 1px solid gray;box-sizing: border-box;top: 0;bottom: 0;left: 50%;z-index: 0;}#sk-container-id-1 div.sk-serial {display: flex;flex-direction: column;align-items: center;background-color: white;padding-right: 0.2em;padding-left: 0.2em;position: relative;}#sk-container-id-1 div.sk-item {position: relative;z-index: 1;}#sk-container-id-1 div.sk-parallel {display: flex;align-items: stretch;justify-content: center;background-color: white;position: relative;}#sk-container-id-1 div.sk-item::before, #sk-container-id-1 div.sk-parallel-item::before {content: \"\";position: absolute;border-left: 1px solid gray;box-sizing: border-box;top: 0;bottom: 0;left: 50%;z-index: -1;}#sk-container-id-1 div.sk-parallel-item {display: flex;flex-direction: column;z-index: 1;position: relative;background-color: white;}#sk-container-id-1 div.sk-parallel-item:first-child::after {align-self: flex-end;width: 50%;}#sk-container-id-1 div.sk-parallel-item:last-child::after {align-self: flex-start;width: 50%;}#sk-container-id-1 div.sk-parallel-item:only-child::after {width: 0;}#sk-container-id-1 div.sk-dashed-wrapped {border: 1px dashed gray;margin: 0 0.4em 0.5em 0.4em;box-sizing: border-box;padding-bottom: 0.4em;background-color: white;}#sk-container-id-1 div.sk-label label {font-family: monospace;font-weight: bold;display: inline-block;line-height: 1.2em;}#sk-container-id-1 div.sk-label-container {text-align: center;}#sk-container-id-1 div.sk-container {/* jupyter's `normalize.less` sets `[hidden] { display: none; }` but bootstrap.min.css set `[hidden] { display: none !important; }` so we also need the `!important` here to be able to override the default hidden behavior on the sphinx rendered scikit-learn.org. See: https://github.com/scikit-learn/scikit-learn/issues/21755 */display: inline-block !important;position: relative;}#sk-container-id-1 div.sk-text-repr-fallback {display: none;}</style><div id=\"sk-container-id-1\" class=\"sk-top-container\"><div class=\"sk-text-repr-fallback\"><pre>SVC()</pre><b>In a Jupyter environment, please rerun this cell to show the HTML representation or trust the notebook. <br />On GitHub, the HTML representation is unable to render, please try loading this page with nbviewer.org.</b></div><div class=\"sk-container\" hidden><div class=\"sk-item\"><div class=\"sk-estimator sk-toggleable\"><input class=\"sk-toggleable__control sk-hidden--visually\" id=\"sk-estimator-id-1\" type=\"checkbox\" checked><label for=\"sk-estimator-id-1\" class=\"sk-toggleable__label sk-toggleable__label-arrow\">SVC</label><div class=\"sk-toggleable__content\"><pre>SVC()</pre></div></div></div></div></div>"
      ],
      "text/plain": [
       "SVC()"
      ]
     },
     "execution_count": 12,
     "metadata": {},
     "output_type": "execute_result"
    }
   ],
   "source": [
    "clf=svm.SVC(kernel='rbf',gamma='scale')\n",
    "clf.fit(x_train,y_train)"
   ]
  },
  {
   "cell_type": "markdown",
   "metadata": {
    "id": "aW3yFyofiqtE"
   },
   "source": [
    "**Predicting the Test set results**"
   ]
  },
  {
   "cell_type": "code",
   "execution_count": 13,
   "metadata": {
    "colab": {
     "base_uri": "https://localhost:8080/"
    },
    "id": "aG_OGjavh1Q4",
    "outputId": "b26d41ff-37a8-4209-f1e8-926b5aff1672"
   },
   "outputs": [
    {
     "data": {
      "text/plain": [
       "array([0, 0, 0, 1, 0, 1, 0, 1, 0, 0, 0, 1, 1, 1, 1, 0, 0, 0, 0, 1, 0, 0,\n",
       "       0, 1, 1, 0, 0, 1, 1, 0, 0, 0, 0, 1, 1, 0, 1, 1, 0, 0, 0, 0, 0, 0,\n",
       "       0, 0, 1, 0, 0, 0, 1, 1, 1, 0, 0, 0, 1, 0, 1, 1, 0, 1, 0, 1, 1, 1,\n",
       "       0, 1, 0, 0, 0, 1, 0, 0, 0, 0, 0, 0, 1, 1], dtype=int64)"
      ]
     },
     "execution_count": 13,
     "metadata": {},
     "output_type": "execute_result"
    }
   ],
   "source": [
    "y_pred=clf.predict(x_test)\n",
    "y_pred"
   ]
  },
  {
   "cell_type": "markdown",
   "metadata": {
    "id": "4Kfn-chPi4Ts"
   },
   "source": [
    "**Making the Confusion Matrix**"
   ]
  },
  {
   "cell_type": "code",
   "execution_count": 14,
   "metadata": {
    "colab": {
     "base_uri": "https://localhost:8080/",
     "height": 175
    },
    "id": "G7VPRN2Ah1Tm",
    "outputId": "f3c31af2-ecce-49b3-a611-7843bb38ba25"
   },
   "outputs": [
    {
     "data": {
      "text/html": [
       "<div>\n",
       "<style scoped>\n",
       "    .dataframe tbody tr th:only-of-type {\n",
       "        vertical-align: middle;\n",
       "    }\n",
       "\n",
       "    .dataframe tbody tr th {\n",
       "        vertical-align: top;\n",
       "    }\n",
       "\n",
       "    .dataframe thead th {\n",
       "        text-align: right;\n",
       "    }\n",
       "</style>\n",
       "<table border=\"1\" class=\"dataframe\">\n",
       "  <thead>\n",
       "    <tr style=\"text-align: right;\">\n",
       "      <th>Predicted</th>\n",
       "      <th>0</th>\n",
       "      <th>1</th>\n",
       "      <th>All</th>\n",
       "    </tr>\n",
       "    <tr>\n",
       "      <th>Actual</th>\n",
       "      <th></th>\n",
       "      <th></th>\n",
       "      <th></th>\n",
       "    </tr>\n",
       "  </thead>\n",
       "  <tbody>\n",
       "    <tr>\n",
       "      <th>0</th>\n",
       "      <td>47</td>\n",
       "      <td>5</td>\n",
       "      <td>52</td>\n",
       "    </tr>\n",
       "    <tr>\n",
       "      <th>1</th>\n",
       "      <td>2</td>\n",
       "      <td>26</td>\n",
       "      <td>28</td>\n",
       "    </tr>\n",
       "    <tr>\n",
       "      <th>All</th>\n",
       "      <td>49</td>\n",
       "      <td>31</td>\n",
       "      <td>80</td>\n",
       "    </tr>\n",
       "  </tbody>\n",
       "</table>\n",
       "</div>"
      ],
      "text/plain": [
       "Predicted   0   1  All\n",
       "Actual                \n",
       "0          47   5   52\n",
       "1           2  26   28\n",
       "All        49  31   80"
      ]
     },
     "execution_count": 14,
     "metadata": {},
     "output_type": "execute_result"
    }
   ],
   "source": [
    "confusion_matrix(y_test,y_pred)\n",
    "pd.crosstab(y_test,y_pred,rownames=['Actual'],colnames=['Predicted'],margins=True)"
   ]
  },
  {
   "cell_type": "markdown",
   "metadata": {
    "id": "7Fo3I-pKi7JQ"
   },
   "source": [
    "**Visualising the Training set results**"
   ]
  },
  {
   "cell_type": "code",
   "execution_count": 15,
   "metadata": {
    "colab": {
     "base_uri": "https://localhost:8080/"
    },
    "id": "hI3xXh_oh1XK",
    "outputId": "b6032166-007e-4abf-b07f-8283ae02d8db"
   },
   "outputs": [
    {
     "name": "stdout",
     "output_type": "stream",
     "text": [
      "Train data score is : 90.625\n"
     ]
    }
   ],
   "source": [
    "training_score = clf.score(x_train,y_train)*100\n",
    "print(\"Train data score is :\",training_score)"
   ]
  },
  {
   "cell_type": "code",
   "execution_count": 18,
   "metadata": {
    "colab": {
     "base_uri": "https://localhost:8080/",
     "height": 296
    },
    "id": "YzMdeL7FjHnn",
    "outputId": "9dc9cf90-18cf-438c-9fc7-9d1dd7522730"
   },
   "outputs": [
    {
     "data": {
      "text/plain": [
       "<sklearn.metrics._plot.roc_curve.RocCurveDisplay at 0x2303bbe2880>"
      ]
     },
     "execution_count": 18,
     "metadata": {},
     "output_type": "execute_result"
    },
    {
     "data": {
      "image/png": "[encoded data removed]",
      "text/plain": [
       "<Figure size 432x288 with 1 Axes>"
      ]
     },
     "metadata": {
      "needs_background": "light"
     },
     "output_type": "display_data"
    }
   ],
   "source": [
    "RocCurveDisplay.from_estimator(clf,x_train,y_train)"
   ]
  },
  {
   "cell_type": "markdown",
   "metadata": {
    "id": "FudAc9-6jSS9"
   },
   "source": [
    "**Visualising the Test set results**"
   ]
  },
  {
   "cell_type": "code",
   "execution_count": 16,
   "metadata": {
    "colab": {
     "base_uri": "https://localhost:8080/"
    },
    "id": "Q3aQCPffjHqj",
    "outputId": "a7d296eb-e412-476c-b8b1-4f886e275948"
   },
   "outputs": [
    {
     "name": "stdout",
     "output_type": "stream",
     "text": [
      "Test data score is : 91.25\n"
     ]
    }
   ],
   "source": [
    "test_score=accuracy_score(y_test,y_pred)*100\n",
    "print(\"Test data score is :\",test_score)"
   ]
  },
  {
   "cell_type": "code",
   "execution_count": 17,
   "metadata": {
    "colab": {
     "base_uri": "https://localhost:8080/",
     "height": 296
    },
    "id": "da0qhcjeh1a0",
    "outputId": "102f589d-88e1-4d20-e20d-917e4b6a4b51"
   },
   "outputs": [
    {
     "data": {
      "text/plain": [
       "<sklearn.metrics._plot.roc_curve.RocCurveDisplay at 0x2303bb4aeb0>"
      ]
     },
     "execution_count": 17,
     "metadata": {},
     "output_type": "execute_result"
    },
    {
     "data": {
      "image/png": "[encoded data removed]",
      "text/plain": [
       "<Figure size 432x288 with 1 Axes>"
      ]
     },
     "metadata": {
      "needs_background": "light"
     },
     "output_type": "display_data"
    }
   ],
   "source": [
    "RocCurveDisplay.from_estimator(clf,x_test,y_test)"
   ]
  },
  {
   "cell_type": "code",
   "execution_count": null,
   "metadata": {},
   "outputs": [],
   "source": []
  }
 ],
 "metadata": {
  "colab": {
   "include_colab_link": true,
   "name": "SVM_Assignment14.ipynb",
   "provenance": []
  },
  "kernelspec": {
   "display_name": "Python 3",
   "language": "python",
   "name": "python3"
  },
  "language_info": {
   "codemirror_mode": {
    "name": "ipython",
    "version": 3
   },
   "file_extension": ".py",
   "mimetype": "text/x-python",
   "name": "python",
   "nbconvert_exporter": "python",
   "pygments_lexer": "ipython3",
   "version": "3.8.5"
  }
 },
 "nbformat": 4,
 "nbformat_minor": 1
}
