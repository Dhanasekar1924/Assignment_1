{
 "cells": [
  {
   "cell_type": "code",
   "execution_count": 1,
   "metadata": {
    "id": "B6m8ouk1_a_K"
   },
   "outputs": [],
   "source": [
    "import numpy as np"
   ]
  },
  {
   "cell_type": "markdown",
   "metadata": {
    "id": "c1TqRC2aGypz"
   },
   "source": [
    "Import phi and phi_test from train and test datasets using NumPy's loadtxt function"
   ]
  },
  {
   "cell_type": "code",
   "execution_count": 4,
   "metadata": {
    "id": "jlDs1PsYGwbl"
   },
   "outputs": [],
   "source": [
    "# Import phi from train data set\n",
    "phi = np.loadtxt('train.csv', dtype='float', delimiter=',', skiprows=1,\n",
    "                 usecols=tuple(range(1, 14)))"
   ]
  },
  {
   "cell_type": "code",
   "execution_count": 5,
   "metadata": {
    "id": "x1a-M0kFG5xX"
   },
   "outputs": [],
   "source": [
    "# Import phi_test from test data set\n",
    "phi_test = np.loadtxt('test.csv', dtype='float', delimiter=',',\n",
    "                      skiprows=1, usecols=tuple(range(1, 14)))"
   ]
  },
  {
   "cell_type": "markdown",
   "metadata": {
    "id": "Y06qDSjoHXMe"
   },
   "source": [
    "Import y from train dataset using the loadtxt function"
   ]
  },
  {
   "cell_type": "code",
   "execution_count": 7,
   "metadata": {
    "id": "3Sd0vY2xG500"
   },
   "outputs": [],
   "source": [
    "\n",
    "y = np.loadtxt('train.csv', dtype='float', delimiter=',', skiprows=1,\n",
    "               usecols=14, ndmin=2)"
   ]
  },
  {
   "cell_type": "markdown",
   "metadata": {
    "id": "93VFWUMaI9w-"
   },
   "source": [
    "Concatenate coloumn of 1s to right of phi and phi_test"
   ]
  },
  {
   "cell_type": "code",
   "execution_count": 8,
   "metadata": {
    "id": "NKfulLtSJBwR"
   },
   "outputs": [],
   "source": [
    "phi_test = np.concatenate((phi_test, np.ones((105, 1))), axis=1)\n",
    "phi = np.concatenate((phi, np.ones((400, 1))), axis=1)"
   ]
  },
  {
   "cell_type": "markdown",
   "metadata": {
    "id": "ApsdFnFKJGcA"
   },
   "source": [
    "Apply min max scaling on each coloumn of phi and phi_test"
   ]
  },
  {
   "cell_type": "code",
   "execution_count": 9,
   "metadata": {
    "id": "ODF-hvX1JI-a"
   },
   "outputs": [],
   "source": [
    "for i in range(0, 13):\n",
    "    col_max = max(phi[:, i])\n",
    "    col_min = min(phi[:, i])\n",
    "    phi[:, i] = (phi[:, i] - col_min) / (col_max - col_min)\n",
    "    phi_test[:, i] = (phi_test[:, i] - col_min) / (col_max - col_min)"
   ]
  },
  {
   "cell_type": "markdown",
   "metadata": {
    "id": "9axJtcD3JL1z"
   },
   "source": [
    "Apply log scaling on y"
   ]
  },
  {
   "cell_type": "code",
   "execution_count": 10,
   "metadata": {
    "id": "_mvMKeDFJPcr"
   },
   "outputs": [],
   "source": [
    "y = np.log(y)"
   ]
  },
  {
   "cell_type": "markdown",
   "metadata": {
    "id": "RjjdgxpmJSBR"
   },
   "source": [
    "Define a function to calculate change in error function based on phi, w and p norm"
   ]
  },
  {
   "cell_type": "code",
   "execution_count": 11,
   "metadata": {
    "id": "ycSZ7A1WJShO"
   },
   "outputs": [],
   "source": [
    "def delta_w(p, phi, w):\n",
    "    if p == 2:\n",
    "        deltaw = (2 * (np.dot(np.dot(np.transpose(phi), phi), w) -\n",
    "                       np.dot(np.transpose(phi), y)) +\n",
    "                  lambd * p * np.power(np.absolute(w), (p - 1)))\n",
    "    if p < 2 and p > 1:\n",
    "        deltaw = (2 * (np.dot(np.dot(np.transpose(phi), phi), w) -\n",
    "                       np.dot(np.transpose(phi), y)) +\n",
    "                  lambd * p * np.power(np.absolute(w), (p - 1)) * np.sign(w))\n",
    "    return deltaw\n"
   ]
  },
  {
   "cell_type": "markdown",
   "metadata": {
    "id": "-lAFSNEFJbQk"
   },
   "source": [
    "Make a dictionary containing filenames as keys and p as values"
   ]
  },
  {
   "cell_type": "code",
   "execution_count": 12,
   "metadata": {
    "id": "mEZ961eDJfNi"
   },
   "outputs": [],
   "source": [
    "filenames = {'output.csv': 2.0,\n",
    "             'output_p1.csv': 1.75,\n",
    "             'output_p2.csv': 1.5,\n",
    "             'output_p3.csv': 1.3\n",
    "             }"
   ]
  },
  {
   "cell_type": "markdown",
   "metadata": {
    "id": "pPSqynd8JoDI"
   },
   "source": [
    "For each item in this dictionary:"
   ]
  },
  {
   "cell_type": "markdown",
   "metadata": {
    "id": "wecn5V9pJzak"
   },
   "source": [
    "Set the w to all 0s"
   ]
  },
  {
   "cell_type": "code",
   "execution_count": 13,
   "metadata": {
    "id": "WK2mrDP-JrAe"
   },
   "outputs": [],
   "source": [
    "for (fname, p) in filenames.items():\n",
    "    w = np.zeros((14, 1))"
   ]
  },
  {
   "cell_type": "markdown",
   "metadata": {
    "id": "_Oiar9XpJuLy"
   },
   "source": [
    "Set an appropriate value for lambda(Hyperparameter) and step size"
   ]
  },
  {
   "cell_type": "code",
   "execution_count": 14,
   "metadata": {
    "id": "vBkIHKrQJ9Wu"
   },
   "outputs": [],
   "source": [
    "lambd = 0.2\n",
    "t = 0.00012 #Max step size"
   ]
  },
  {
   "cell_type": "markdown",
   "metadata": {
    "id": "eZiVG9NQKAlJ"
   },
   "source": [
    "Calculate new value of w"
   ]
  },
  {
   "cell_type": "code",
   "execution_count": 15,
   "metadata": {
    "id": "fX7Lrr08KC8b"
   },
   "outputs": [],
   "source": [
    "w_new = w - t * delta_w(p, phi, w)"
   ]
  },
  {
   "cell_type": "markdown",
   "metadata": {
    "id": "-xl45V89KDP8"
   },
   "source": [
    "Repeat steps until error between consecutive ws is less than threshold"
   ]
  },
  {
   "cell_type": "code",
   "execution_count": 16,
   "metadata": {
    "id": "2OWv2eYBKDf_"
   },
   "outputs": [],
   "source": [
    "i = 0\n",
    "while(np.linalg.norm(w_new-w) > 10 ** -10):\n",
    "        w = w_new\n",
    "        w_new = w - t * delta_w(p, phi, w)\n",
    "        i = i + 1"
   ]
  },
  {
   "cell_type": "markdown",
   "metadata": {
    "id": "sxTfQd9QKDwN"
   },
   "source": [
    "Load values of id from test data file"
   ]
  },
  {
   "cell_type": "code",
   "execution_count": 18,
   "metadata": {
    "id": "YytMLNB-KD9f"
   },
   "outputs": [],
   "source": [
    "id_test = np.loadtxt('test.csv', dtype='int', delimiter=',',\n",
    "                         skiprows=1, usecols=0, ndmin=2)"
   ]
  },
  {
   "cell_type": "markdown",
   "metadata": {
    "id": "Blq0ph_sKg1s"
   },
   "source": [
    "Calculate y for test data using phi test and applying inverse log"
   ]
  },
  {
   "cell_type": "code",
   "execution_count": 19,
   "metadata": {
    "id": "zE6E6v5qKhCb"
   },
   "outputs": [],
   "source": [
    "y_test = np.exp(np.dot(phi_test, w_new))"
   ]
  },
  {
   "cell_type": "markdown",
   "metadata": {
    "id": "i1YPQKpvKhOE"
   },
   "source": [
    "Save the ids and y according to filename from dictionary"
   ]
  },
  {
   "cell_type": "code",
   "execution_count": 20,
   "metadata": {
    "id": "JifiVe9JKhZb"
   },
   "outputs": [],
   "source": [
    "np.savetxt(fname, np.concatenate((id_test, y_test), axis=1),\n",
    "               delimiter=',', fmt=['%d', '%f'], header='ID,MEDV', comments='')"
   ]
  }
 ],
 "metadata": {
  "colab": {
   "collapsed_sections": [],
   "name": "Task6-Assignment4.ipynb",
   "provenance": []
  },
  "kernelspec": {
   "display_name": "Python 3",
   "language": "python",
   "name": "python3"
  },
  "language_info": {
   "codemirror_mode": {
    "name": "ipython",
    "version": 3
   },
   "file_extension": ".py",
   "mimetype": "text/x-python",
   "name": "python",
   "nbconvert_exporter": "python",
   "pygments_lexer": "ipython3",
   "version": "3.8.5"
  }
 },
 "nbformat": 4,
 "nbformat_minor": 1
}
