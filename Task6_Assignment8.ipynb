{
 "cells": [
  {
   "cell_type": "markdown",
   "metadata": {
    "id": "ebO0gtHFW9-V"
   },
   "source": [
    "# Assignment8"
   ]
  },
  {
   "cell_type": "code",
   "execution_count": 1,
   "metadata": {
    "id": "r76io6SbW9-Y"
   },
   "outputs": [],
   "source": [
    "import pandas as pd\n",
    "import matplotlib.pyplot as plt\n",
    "import numpy as np\n",
    "from sklearn import linear_model"
   ]
  },
  {
   "cell_type": "markdown",
   "metadata": {
    "id": "hhdP5SzwW9-a"
   },
   "source": [
    "# How Much is Your Car Worth?\n",
    "\n",
    "Data about the retail price of 2005 General Motors cars can be found in `car_data.csv`.\n",
    "\n",
    "The columns are:\n",
    "\n",
    "1. Price: suggested retail price of the used 2005 GM car in excellent condition.\n",
    "2. Mileage: number of miles the car has been driven\n",
    "3. Make: manufacturer of the car such as Saturn, Pontiac, and Chevrolet\n",
    "4. Model: specific models for each car manufacturer such as Ion, Vibe, Cavalier\n",
    "5. Trim (of car): specific type of car model such as SE Sedan 4D, Quad Coupe 2D          \n",
    "6. Type: body type such as sedan, coupe, etc.      \n",
    "7. Cylinder: number of cylinders in the engine        \n",
    "8. Liter: a more specific measure of engine size     \n",
    "9. Doors: number of doors           \n",
    "10. Cruise: indicator variable representing whether the car has cruise control (1 = cruise)\n",
    "11. Sound: indicator variable representing whether the car has upgraded speakers (1 = upgraded)\n",
    "12. Leather: indicator variable representing whether the car has leather seats (1 = leather)\n",
    "\n",
    "## Tasks, Part 1\n",
    "\n",
    "1. Find the linear regression equation for mileage vs price.\n",
    "2. Chart the original data and the equation on the chart.\n",
    "3. Find the equation's $R^2$ score (use the `.score` method) to determine whether the\n",
    "equation is a good fit for this data. (0.8 and greater is considered a strong correlation.)\n",
    "\n",
    "## Tasks, Part 2\n",
    "\n",
    "1. Use mileage, cylinders, liters, doors, cruise, sound, and leather to find the linear regression equation.\n",
    "2. Find the equation's $R^2$ score (use the `.score` method) to determine whether the\n",
    "equation is a good fit for this data. (0.8 and greater is considered a strong correlation.)\n",
    "3. Find the combination of the factors that is the best predictor for price.\n",
    "\n",
    "## Tasks, Hard Mode\n",
    "\n",
    "1. Research dummy variables in scikit-learn to see how to use the make, model, and body type.\n",
    "2. Find the best combination of factors to predict price."
   ]
  },
  {
   "cell_type": "code",
   "execution_count": 2,
   "metadata": {
    "id": "8mgmt8jwW9-b"
   },
   "outputs": [],
   "source": [
    "df = pd.read_csv(\"car_data.csv\")"
   ]
  },
  {
   "cell_type": "code",
   "execution_count": 3,
   "metadata": {
    "colab": {
     "base_uri": "https://localhost:8080/",
     "height": 206
    },
    "id": "IrGnMjnQXiL7",
    "outputId": "e2448acb-7921-40af-fda5-8669235594d1"
   },
   "outputs": [
    {
     "data": {
      "text/html": [
       "<div>\n",
       "<style scoped>\n",
       "    .dataframe tbody tr th:only-of-type {\n",
       "        vertical-align: middle;\n",
       "    }\n",
       "\n",
       "    .dataframe tbody tr th {\n",
       "        vertical-align: top;\n",
       "    }\n",
       "\n",
       "    .dataframe thead th {\n",
       "        text-align: right;\n",
       "    }\n",
       "</style>\n",
       "<table border=\"1\" class=\"dataframe\">\n",
       "  <thead>\n",
       "    <tr style=\"text-align: right;\">\n",
       "      <th></th>\n",
       "      <th>Price</th>\n",
       "      <th>Mileage</th>\n",
       "      <th>Make</th>\n",
       "      <th>Model</th>\n",
       "      <th>Trim</th>\n",
       "      <th>Type</th>\n",
       "      <th>Cylinder</th>\n",
       "      <th>Liter</th>\n",
       "      <th>Doors</th>\n",
       "      <th>Cruise</th>\n",
       "      <th>Sound</th>\n",
       "      <th>Leather</th>\n",
       "    </tr>\n",
       "  </thead>\n",
       "  <tbody>\n",
       "    <tr>\n",
       "      <th>0</th>\n",
       "      <td>17314.103129</td>\n",
       "      <td>8221</td>\n",
       "      <td>Buick</td>\n",
       "      <td>Century</td>\n",
       "      <td>Sedan 4D</td>\n",
       "      <td>Sedan</td>\n",
       "      <td>6</td>\n",
       "      <td>3.1</td>\n",
       "      <td>4</td>\n",
       "      <td>1</td>\n",
       "      <td>1</td>\n",
       "      <td>1</td>\n",
       "    </tr>\n",
       "    <tr>\n",
       "      <th>1</th>\n",
       "      <td>17542.036083</td>\n",
       "      <td>9135</td>\n",
       "      <td>Buick</td>\n",
       "      <td>Century</td>\n",
       "      <td>Sedan 4D</td>\n",
       "      <td>Sedan</td>\n",
       "      <td>6</td>\n",
       "      <td>3.1</td>\n",
       "      <td>4</td>\n",
       "      <td>1</td>\n",
       "      <td>1</td>\n",
       "      <td>0</td>\n",
       "    </tr>\n",
       "    <tr>\n",
       "      <th>2</th>\n",
       "      <td>16218.847862</td>\n",
       "      <td>13196</td>\n",
       "      <td>Buick</td>\n",
       "      <td>Century</td>\n",
       "      <td>Sedan 4D</td>\n",
       "      <td>Sedan</td>\n",
       "      <td>6</td>\n",
       "      <td>3.1</td>\n",
       "      <td>4</td>\n",
       "      <td>1</td>\n",
       "      <td>1</td>\n",
       "      <td>0</td>\n",
       "    </tr>\n",
       "    <tr>\n",
       "      <th>3</th>\n",
       "      <td>16336.913140</td>\n",
       "      <td>16342</td>\n",
       "      <td>Buick</td>\n",
       "      <td>Century</td>\n",
       "      <td>Sedan 4D</td>\n",
       "      <td>Sedan</td>\n",
       "      <td>6</td>\n",
       "      <td>3.1</td>\n",
       "      <td>4</td>\n",
       "      <td>1</td>\n",
       "      <td>0</td>\n",
       "      <td>0</td>\n",
       "    </tr>\n",
       "    <tr>\n",
       "      <th>4</th>\n",
       "      <td>16339.170324</td>\n",
       "      <td>19832</td>\n",
       "      <td>Buick</td>\n",
       "      <td>Century</td>\n",
       "      <td>Sedan 4D</td>\n",
       "      <td>Sedan</td>\n",
       "      <td>6</td>\n",
       "      <td>3.1</td>\n",
       "      <td>4</td>\n",
       "      <td>1</td>\n",
       "      <td>0</td>\n",
       "      <td>1</td>\n",
       "    </tr>\n",
       "  </tbody>\n",
       "</table>\n",
       "</div>"
      ],
      "text/plain": [
       "          Price  Mileage   Make    Model      Trim   Type  Cylinder  Liter  \\\n",
       "0  17314.103129     8221  Buick  Century  Sedan 4D  Sedan         6    3.1   \n",
       "1  17542.036083     9135  Buick  Century  Sedan 4D  Sedan         6    3.1   \n",
       "2  16218.847862    13196  Buick  Century  Sedan 4D  Sedan         6    3.1   \n",
       "3  16336.913140    16342  Buick  Century  Sedan 4D  Sedan         6    3.1   \n",
       "4  16339.170324    19832  Buick  Century  Sedan 4D  Sedan         6    3.1   \n",
       "\n",
       "   Doors  Cruise  Sound  Leather  \n",
       "0      4       1      1        1  \n",
       "1      4       1      1        0  \n",
       "2      4       1      1        0  \n",
       "3      4       1      0        0  \n",
       "4      4       1      0        1  "
      ]
     },
     "execution_count": 3,
     "metadata": {},
     "output_type": "execute_result"
    }
   ],
   "source": [
    "df.head()"
   ]
  },
  {
   "cell_type": "code",
   "execution_count": 4,
   "metadata": {
    "colab": {
     "base_uri": "https://localhost:8080/"
    },
    "id": "pRYNMArSXj5C",
    "outputId": "42008c56-aa4c-4e27-bc39-faab3b42ed28"
   },
   "outputs": [
    {
     "data": {
      "text/plain": [
       "Price       0\n",
       "Mileage     0\n",
       "Make        0\n",
       "Model       0\n",
       "Trim        0\n",
       "Type        0\n",
       "Cylinder    0\n",
       "Liter       0\n",
       "Doors       0\n",
       "Cruise      0\n",
       "Sound       0\n",
       "Leather     0\n",
       "dtype: int64"
      ]
     },
     "execution_count": 4,
     "metadata": {},
     "output_type": "execute_result"
    }
   ],
   "source": [
    "df.isnull().sum()"
   ]
  },
  {
   "cell_type": "code",
   "execution_count": 5,
   "metadata": {
    "colab": {
     "base_uri": "https://localhost:8080/"
    },
    "id": "DsDzNVl1XnA5",
    "outputId": "26447763-ce0e-43ed-eaca-c3e45b4b49f3"
   },
   "outputs": [
    {
     "data": {
      "text/plain": [
       "(804, 12)"
      ]
     },
     "execution_count": 5,
     "metadata": {},
     "output_type": "execute_result"
    }
   ],
   "source": [
    "df.shape"
   ]
  },
  {
   "cell_type": "code",
   "execution_count": 6,
   "metadata": {
    "colab": {
     "base_uri": "https://localhost:8080/"
    },
    "id": "GW851mJ9YUtP",
    "outputId": "36ee0582-1b02-4373-ebb9-cd1a6624ff33"
   },
   "outputs": [
    {
     "data": {
      "text/plain": [
       "Index(['Price', 'Mileage', 'Make', 'Model', 'Trim', 'Type', 'Cylinder',\n",
       "       'Liter', 'Doors', 'Cruise', 'Sound', 'Leather'],\n",
       "      dtype='object')"
      ]
     },
     "execution_count": 6,
     "metadata": {},
     "output_type": "execute_result"
    }
   ],
   "source": [
    "df.columns"
   ]
  },
  {
   "cell_type": "code",
   "execution_count": 7,
   "metadata": {
    "colab": {
     "base_uri": "https://localhost:8080/",
     "height": 301
    },
    "id": "vfq1fbg-nyWN",
    "outputId": "837d05b9-8dd6-442b-8522-a739d78bc0c8"
   },
   "outputs": [
    {
     "data": {
      "image/png": "[encoded data removed]",
      "text/plain": [
       "<Figure size 432x288 with 2 Axes>"
      ]
     },
     "metadata": {
      "needs_background": "light"
     },
     "output_type": "display_data"
    }
   ],
   "source": [
    "import seaborn as sns\n",
    "corrMatrix = df.corr()\n",
    "sns.heatmap(corrMatrix, annot=True)\n",
    "plt.show()"
   ]
  },
  {
   "cell_type": "markdown",
   "metadata": {
    "id": "JNXjh8XTpfwU"
   },
   "source": [
    "#Here we can see the correlation between Price and Mileage feature is -0.14."
   ]
  },
  {
   "cell_type": "code",
   "execution_count": 8,
   "metadata": {
    "id": "V0c_FsGRoUQC"
   },
   "outputs": [],
   "source": [
    "x=df[['Price']]\n",
    "y=df['Mileage']"
   ]
  },
  {
   "cell_type": "code",
   "execution_count": 9,
   "metadata": {
    "colab": {
     "base_uri": "https://localhost:8080/"
    },
    "id": "NqGPfHxToUTW",
    "outputId": "47b9caf2-6fff-4e63-957c-949ba1b272cb"
   },
   "outputs": [
    {
     "data": {
      "text/html": [
       "<style>#sk-container-id-1 {color: black;background-color: white;}#sk-container-id-1 pre{padding: 0;}#sk-container-id-1 div.sk-toggleable {background-color: white;}#sk-container-id-1 label.sk-toggleable__label {cursor: pointer;display: block;width: 100%;margin-bottom: 0;padding: 0.3em;box-sizing: border-box;text-align: center;}#sk-container-id-1 label.sk-toggleable__label-arrow:before {content: \"▸\";float: left;margin-right: 0.25em;color: #696969;}#sk-container-id-1 label.sk-toggleable__label-arrow:hover:before {color: black;}#sk-container-id-1 div.sk-estimator:hover label.sk-toggleable__label-arrow:before {color: black;}#sk-container-id-1 div.sk-toggleable__content {max-height: 0;max-width: 0;overflow: hidden;text-align: left;background-color: #f0f8ff;}#sk-container-id-1 div.sk-toggleable__content pre {margin: 0.2em;color: black;border-radius: 0.25em;background-color: #f0f8ff;}#sk-container-id-1 input.sk-toggleable__control:checked~div.sk-toggleable__content {max-height: 200px;max-width: 100%;overflow: auto;}#sk-container-id-1 input.sk-toggleable__control:checked~label.sk-toggleable__label-arrow:before {content: \"▾\";}#sk-container-id-1 div.sk-estimator input.sk-toggleable__control:checked~label.sk-toggleable__label {background-color: #d4ebff;}#sk-container-id-1 div.sk-label input.sk-toggleable__control:checked~label.sk-toggleable__label {background-color: #d4ebff;}#sk-container-id-1 input.sk-hidden--visually {border: 0;clip: rect(1px 1px 1px 1px);clip: rect(1px, 1px, 1px, 1px);height: 1px;margin: -1px;overflow: hidden;padding: 0;position: absolute;width: 1px;}#sk-container-id-1 div.sk-estimator {font-family: monospace;background-color: #f0f8ff;border: 1px dotted black;border-radius: 0.25em;box-sizing: border-box;margin-bottom: 0.5em;}#sk-container-id-1 div.sk-estimator:hover {background-color: #d4ebff;}#sk-container-id-1 div.sk-parallel-item::after {content: \"\";width: 100%;border-bottom: 1px solid gray;flex-grow: 1;}#sk-container-id-1 div.sk-label:hover label.sk-toggleable__label {background-color: #d4ebff;}#sk-container-id-1 div.sk-serial::before {content: \"\";position: absolute;border-left: 1px solid gray;box-sizing: border-box;top: 0;bottom: 0;left: 50%;z-index: 0;}#sk-container-id-1 div.sk-serial {display: flex;flex-direction: column;align-items: center;background-color: white;padding-right: 0.2em;padding-left: 0.2em;position: relative;}#sk-container-id-1 div.sk-item {position: relative;z-index: 1;}#sk-container-id-1 div.sk-parallel {display: flex;align-items: stretch;justify-content: center;background-color: white;position: relative;}#sk-container-id-1 div.sk-item::before, #sk-container-id-1 div.sk-parallel-item::before {content: \"\";position: absolute;border-left: 1px solid gray;box-sizing: border-box;top: 0;bottom: 0;left: 50%;z-index: -1;}#sk-container-id-1 div.sk-parallel-item {display: flex;flex-direction: column;z-index: 1;position: relative;background-color: white;}#sk-container-id-1 div.sk-parallel-item:first-child::after {align-self: flex-end;width: 50%;}#sk-container-id-1 div.sk-parallel-item:last-child::after {align-self: flex-start;width: 50%;}#sk-container-id-1 div.sk-parallel-item:only-child::after {width: 0;}#sk-container-id-1 div.sk-dashed-wrapped {border: 1px dashed gray;margin: 0 0.4em 0.5em 0.4em;box-sizing: border-box;padding-bottom: 0.4em;background-color: white;}#sk-container-id-1 div.sk-label label {font-family: monospace;font-weight: bold;display: inline-block;line-height: 1.2em;}#sk-container-id-1 div.sk-label-container {text-align: center;}#sk-container-id-1 div.sk-container {/* jupyter's `normalize.less` sets `[hidden] { display: none; }` but bootstrap.min.css set `[hidden] { display: none !important; }` so we also need the `!important` here to be able to override the default hidden behavior on the sphinx rendered scikit-learn.org. See: https://github.com/scikit-learn/scikit-learn/issues/21755 */display: inline-block !important;position: relative;}#sk-container-id-1 div.sk-text-repr-fallback {display: none;}</style><div id=\"sk-container-id-1\" class=\"sk-top-container\"><div class=\"sk-text-repr-fallback\"><pre>LinearRegression()</pre><b>In a Jupyter environment, please rerun this cell to show the HTML representation or trust the notebook. <br />On GitHub, the HTML representation is unable to render, please try loading this page with nbviewer.org.</b></div><div class=\"sk-container\" hidden><div class=\"sk-item\"><div class=\"sk-estimator sk-toggleable\"><input class=\"sk-toggleable__control sk-hidden--visually\" id=\"sk-estimator-id-1\" type=\"checkbox\" checked><label for=\"sk-estimator-id-1\" class=\"sk-toggleable__label sk-toggleable__label-arrow\">LinearRegression</label><div class=\"sk-toggleable__content\"><pre>LinearRegression()</pre></div></div></div></div></div>"
      ],
      "text/plain": [
       "LinearRegression()"
      ]
     },
     "execution_count": 9,
     "metadata": {},
     "output_type": "execute_result"
    }
   ],
   "source": [
    "from sklearn.linear_model import LinearRegression\n",
    "lin_reg=LinearRegression()\n",
    "lin_reg.fit(x,y)"
   ]
  },
  {
   "cell_type": "code",
   "execution_count": 10,
   "metadata": {
    "colab": {
     "base_uri": "https://localhost:8080/"
    },
    "id": "JKcz3JmSXqjT",
    "outputId": "5b67bfbc-89ec-45cc-ea3f-9aec43797903"
   },
   "outputs": [
    {
     "name": "stdout",
     "output_type": "stream",
     "text": [
      "intercept: 22363.542155940642\n",
      "coefficients: [-0.11861458]\n"
     ]
    }
   ],
   "source": [
    "\n",
    "\n",
    "print('intercept:', lin_reg.intercept_)\n",
    "print('coefficients:', lin_reg.coef_)\n"
   ]
  },
  {
   "cell_type": "markdown",
   "metadata": {
    "id": "ZPATPW88p4JP"
   },
   "source": [
    "#**1.Linear regression for mileage vs price**"
   ]
  },
  {
   "cell_type": "markdown",
   "metadata": {
    "id": "Px9aJKvcp-aM"
   },
   "source": [
    "#The linear regression for mileage vs price is -0.1186*x+ 22363.5421"
   ]
  },
  {
   "cell_type": "markdown",
   "metadata": {
    "id": "anw073ctqpK1"
   },
   "source": [
    "#**2.Chart**"
   ]
  },
  {
   "cell_type": "code",
   "execution_count": 11,
   "metadata": {
    "colab": {
     "base_uri": "https://localhost:8080/",
     "height": 313
    },
    "id": "x27YIgFunSs2",
    "outputId": "1a390c26-f807-4e5a-ed6c-5c119fefb2ba"
   },
   "outputs": [
    {
     "data": {
      "text/plain": [
       "Text(0.5, 1.0, 'Mileage vs Price')"
      ]
     },
     "execution_count": 11,
     "metadata": {},
     "output_type": "execute_result"
    },
    {
     "data": {
      "image/png": "[encoded data removed]",
      "text/plain": [
       "<Figure size 432x288 with 1 Axes>"
      ]
     },
     "metadata": {
      "needs_background": "light"
     },
     "output_type": "display_data"
    }
   ],
   "source": [
    "plt.scatter(x, y, color='g')\n",
    "plt.plot(x, lin_reg.predict(x))\n",
    "plt.xlabel('Mileage')\n",
    "plt.ylabel('Price')\n",
    "plt.title('Mileage vs Price')"
   ]
  },
  {
   "cell_type": "markdown",
   "metadata": {
    "id": "i5RFESU9rNEL"
   },
   "source": [
    "#**3.R2 SCORE**"
   ]
  },
  {
   "cell_type": "code",
   "execution_count": 12,
   "metadata": {
    "colab": {
     "base_uri": "https://localhost:8080/"
    },
    "id": "-t0mh191nSwU",
    "outputId": "c5eb651b-f44c-48e2-d293-861b18daf9e9"
   },
   "outputs": [
    {
     "name": "stdout",
     "output_type": "stream",
     "text": [
      "r-squared: 0.020463447323489037\n"
     ]
    }
   ],
   "source": [
    "print('r-squared:', lin_reg.score(x, y))"
   ]
  },
  {
   "cell_type": "markdown",
   "metadata": {
    "id": "G0ukrH2srYkA"
   },
   "source": [
    "#R2 Score is 0.0204 which indicates there is least correlation between mileage and price  and aslo the model is bad."
   ]
  },
  {
   "cell_type": "markdown",
   "metadata": {
    "id": "RCVuRDE1rzEt"
   },
   "source": [
    "#**PART2**"
   ]
  },
  {
   "cell_type": "code",
   "execution_count": 13,
   "metadata": {
    "id": "4jh3tsUyr1sV"
   },
   "outputs": [],
   "source": [
    "feature = ['Mileage','Cylinder','Liter', 'Doors', 'Cruise', 'Sound', 'Leather']\n",
    "x=df[feature]\n",
    "y=df['Price']"
   ]
  },
  {
   "cell_type": "code",
   "execution_count": 14,
   "metadata": {
    "colab": {
     "base_uri": "https://localhost:8080/"
    },
    "id": "zXkZBgiAr1uM",
    "outputId": "ee9e1553-7ea8-4488-e841-0e68333115c4"
   },
   "outputs": [
    {
     "data": {
      "text/html": [
       "<style>#sk-container-id-2 {color: black;background-color: white;}#sk-container-id-2 pre{padding: 0;}#sk-container-id-2 div.sk-toggleable {background-color: white;}#sk-container-id-2 label.sk-toggleable__label {cursor: pointer;display: block;width: 100%;margin-bottom: 0;padding: 0.3em;box-sizing: border-box;text-align: center;}#sk-container-id-2 label.sk-toggleable__label-arrow:before {content: \"▸\";float: left;margin-right: 0.25em;color: #696969;}#sk-container-id-2 label.sk-toggleable__label-arrow:hover:before {color: black;}#sk-container-id-2 div.sk-estimator:hover label.sk-toggleable__label-arrow:before {color: black;}#sk-container-id-2 div.sk-toggleable__content {max-height: 0;max-width: 0;overflow: hidden;text-align: left;background-color: #f0f8ff;}#sk-container-id-2 div.sk-toggleable__content pre {margin: 0.2em;color: black;border-radius: 0.25em;background-color: #f0f8ff;}#sk-container-id-2 input.sk-toggleable__control:checked~div.sk-toggleable__content {max-height: 200px;max-width: 100%;overflow: auto;}#sk-container-id-2 input.sk-toggleable__control:checked~label.sk-toggleable__label-arrow:before {content: \"▾\";}#sk-container-id-2 div.sk-estimator input.sk-toggleable__control:checked~label.sk-toggleable__label {background-color: #d4ebff;}#sk-container-id-2 div.sk-label input.sk-toggleable__control:checked~label.sk-toggleable__label {background-color: #d4ebff;}#sk-container-id-2 input.sk-hidden--visually {border: 0;clip: rect(1px 1px 1px 1px);clip: rect(1px, 1px, 1px, 1px);height: 1px;margin: -1px;overflow: hidden;padding: 0;position: absolute;width: 1px;}#sk-container-id-2 div.sk-estimator {font-family: monospace;background-color: #f0f8ff;border: 1px dotted black;border-radius: 0.25em;box-sizing: border-box;margin-bottom: 0.5em;}#sk-container-id-2 div.sk-estimator:hover {background-color: #d4ebff;}#sk-container-id-2 div.sk-parallel-item::after {content: \"\";width: 100%;border-bottom: 1px solid gray;flex-grow: 1;}#sk-container-id-2 div.sk-label:hover label.sk-toggleable__label {background-color: #d4ebff;}#sk-container-id-2 div.sk-serial::before {content: \"\";position: absolute;border-left: 1px solid gray;box-sizing: border-box;top: 0;bottom: 0;left: 50%;z-index: 0;}#sk-container-id-2 div.sk-serial {display: flex;flex-direction: column;align-items: center;background-color: white;padding-right: 0.2em;padding-left: 0.2em;position: relative;}#sk-container-id-2 div.sk-item {position: relative;z-index: 1;}#sk-container-id-2 div.sk-parallel {display: flex;align-items: stretch;justify-content: center;background-color: white;position: relative;}#sk-container-id-2 div.sk-item::before, #sk-container-id-2 div.sk-parallel-item::before {content: \"\";position: absolute;border-left: 1px solid gray;box-sizing: border-box;top: 0;bottom: 0;left: 50%;z-index: -1;}#sk-container-id-2 div.sk-parallel-item {display: flex;flex-direction: column;z-index: 1;position: relative;background-color: white;}#sk-container-id-2 div.sk-parallel-item:first-child::after {align-self: flex-end;width: 50%;}#sk-container-id-2 div.sk-parallel-item:last-child::after {align-self: flex-start;width: 50%;}#sk-container-id-2 div.sk-parallel-item:only-child::after {width: 0;}#sk-container-id-2 div.sk-dashed-wrapped {border: 1px dashed gray;margin: 0 0.4em 0.5em 0.4em;box-sizing: border-box;padding-bottom: 0.4em;background-color: white;}#sk-container-id-2 div.sk-label label {font-family: monospace;font-weight: bold;display: inline-block;line-height: 1.2em;}#sk-container-id-2 div.sk-label-container {text-align: center;}#sk-container-id-2 div.sk-container {/* jupyter's `normalize.less` sets `[hidden] { display: none; }` but bootstrap.min.css set `[hidden] { display: none !important; }` so we also need the `!important` here to be able to override the default hidden behavior on the sphinx rendered scikit-learn.org. See: https://github.com/scikit-learn/scikit-learn/issues/21755 */display: inline-block !important;position: relative;}#sk-container-id-2 div.sk-text-repr-fallback {display: none;}</style><div id=\"sk-container-id-2\" class=\"sk-top-container\"><div class=\"sk-text-repr-fallback\"><pre>LinearRegression()</pre><b>In a Jupyter environment, please rerun this cell to show the HTML representation or trust the notebook. <br />On GitHub, the HTML representation is unable to render, please try loading this page with nbviewer.org.</b></div><div class=\"sk-container\" hidden><div class=\"sk-item\"><div class=\"sk-estimator sk-toggleable\"><input class=\"sk-toggleable__control sk-hidden--visually\" id=\"sk-estimator-id-2\" type=\"checkbox\" checked><label for=\"sk-estimator-id-2\" class=\"sk-toggleable__label sk-toggleable__label-arrow\">LinearRegression</label><div class=\"sk-toggleable__content\"><pre>LinearRegression()</pre></div></div></div></div></div>"
      ],
      "text/plain": [
       "LinearRegression()"
      ]
     },
     "execution_count": 14,
     "metadata": {},
     "output_type": "execute_result"
    }
   ],
   "source": [
    "lr = linear_model.LinearRegression()\n",
    "lr.fit(x, y)"
   ]
  },
  {
   "cell_type": "code",
   "execution_count": 15,
   "metadata": {
    "colab": {
     "base_uri": "https://localhost:8080/"
    },
    "id": "ZRzZYRsur1xp",
    "outputId": "1501a497-92e1-44ca-dea6-33f6f2a21f28"
   },
   "outputs": [
    {
     "name": "stdout",
     "output_type": "stream",
     "text": [
      "Features & Coefficients\n",
      "[('Mileage', -0.16974783233303695), ('Cylinder', 3792.3789307825205), ('Liter', -787.2207316338296), ('Doors', -1542.7458463820662), ('Cruise', 6288.997149849934), ('Sound', -1993.7952756984266), ('Leather', 3349.361619613557)]\n"
     ]
    }
   ],
   "source": [
    "print('Features & Coefficients')\n",
    "print(list(zip(feature, lr.coef_)))"
   ]
  },
  {
   "cell_type": "code",
   "execution_count": 16,
   "metadata": {
    "colab": {
     "base_uri": "https://localhost:8080/"
    },
    "id": "356nckumyeKT",
    "outputId": "0801cd62-0c8f-416c-ca96-890822b34899"
   },
   "outputs": [
    {
     "data": {
      "text/plain": [
       "6758.755143598062"
      ]
     },
     "execution_count": 16,
     "metadata": {},
     "output_type": "execute_result"
    }
   ],
   "source": [
    "lr.intercept_"
   ]
  },
  {
   "cell_type": "markdown",
   "metadata": {
    "id": "TkSqt-8ly2le"
   },
   "source": [
    "#**1.Linear regression equation**"
   ]
  },
  {
   "cell_type": "markdown",
   "metadata": {
    "id": "MbY-Vr49zB48"
   },
   "source": [
    "\n",
    "#6758.755143598106 +-0.16974783233303692X1+3792.378930782515X2+-787.2207316338321X3+-1542.745846382068X4+6288.997149849932X5+-1993.795275698427X6+3349.361619613555X7]"
   ]
  },
  {
   "cell_type": "markdown",
   "metadata": {
    "id": "uKZH26tQz4tC"
   },
   "source": [
    "#**2.R2 SCORE**"
   ]
  },
  {
   "cell_type": "code",
   "execution_count": 17,
   "metadata": {
    "colab": {
     "base_uri": "https://localhost:8080/"
    },
    "id": "_P2xOq3r0AlU",
    "outputId": "6b39e4f5-e991-43d9-9dc6-5eab3906c54d"
   },
   "outputs": [
    {
     "data": {
      "text/plain": [
       "0.446264353672838"
      ]
     },
     "execution_count": 17,
     "metadata": {},
     "output_type": "execute_result"
    }
   ],
   "source": [
    "lr.score(x,y)"
   ]
  },
  {
   "cell_type": "markdown",
   "metadata": {
    "id": "Bue_h2e80P6O"
   },
   "source": [
    "#R2 score value is 0.446264 when we take ['Mileage','Cylinder','Liter', 'Doors', 'Cruise', 'Sound', 'Leather'] as features. It is still not considered to be a good model."
   ]
  },
  {
   "cell_type": "markdown",
   "metadata": {
    "id": "CyTIc8450qgG"
   },
   "source": [
    "#**3.Combination of the factors that is the best predictor for price.**"
   ]
  },
  {
   "cell_type": "code",
   "execution_count": 18,
   "metadata": {
    "id": "cQHUdifw0wx9"
   },
   "outputs": [],
   "source": [
    "import itertools as it "
   ]
  },
  {
   "cell_type": "code",
   "execution_count": 19,
   "metadata": {
    "id": "FHY_28rJ1cWJ"
   },
   "outputs": [],
   "source": [
    "def lin_r2(feature, df, p='Price'):\n",
    "    input = df[feature]\n",
    "    output = df[p]\n",
    "    lr = linear_model.LinearRegression()\n",
    "    lr.fit(input,output)\n",
    "    return lr.score(input,output)"
   ]
  },
  {
   "cell_type": "code",
   "execution_count": 20,
   "metadata": {
    "id": "I2GkC_Nu0w1T"
   },
   "outputs": [],
   "source": [
    "def get_combo(cols):\n",
    "    return [it.combinations(cols, n + 1) for n in range(len(cols))]\n",
    "\n",
    "combos = get_combo(feature)\n"
   ]
  },
  {
   "cell_type": "code",
   "execution_count": 21,
   "metadata": {
    "id": "XrAhjsgp1UNw"
   },
   "outputs": [],
   "source": [
    "def all_combo_scores(combos, df, focus='Price'):\n",
    "    combo_scores = {}\n",
    "    for m in range(len(list(combos))):\n",
    "        for n in list(combos[m]):\n",
    "            combo_scores[lin_r2(list(n), df, focus)] = n\n",
    "    return combo_scores"
   ]
  },
  {
   "cell_type": "code",
   "execution_count": 22,
   "metadata": {
    "colab": {
     "base_uri": "https://localhost:8080/"
    },
    "id": "1r_GlKn11kZ2",
    "outputId": "3801c6be-9c19-4ea6-c5df-1256f8b60f34"
   },
   "outputs": [
    {
     "data": {
      "text/plain": [
       "[(0.446264353672838,\n",
       "  ('Mileage', 'Cylinder', 'Liter', 'Doors', 'Cruise', 'Sound', 'Leather')),\n",
       " (0.44569092105870245,\n",
       "  ('Mileage', 'Cylinder', 'Doors', 'Cruise', 'Sound', 'Leather')),\n",
       " (0.437805741536638,\n",
       "  ('Mileage', 'Cylinder', 'Liter', 'Doors', 'Cruise', 'Leather')),\n",
       " (0.4369402151237246, ('Mileage', 'Cylinder', 'Doors', 'Cruise', 'Leather')),\n",
       " (0.43014148406475605,\n",
       "  ('Mileage', 'Cylinder', 'Liter', 'Cruise', 'Sound', 'Leather')),\n",
       " (0.43001820483252684, ('Mileage', 'Cylinder', 'Cruise', 'Sound', 'Leather')),\n",
       " (0.4265348637809263,\n",
       "  ('Cylinder', 'Liter', 'Doors', 'Cruise', 'Sound', 'Leather')),\n",
       " (0.4257681327974422, ('Cylinder', 'Doors', 'Cruise', 'Sound', 'Leather')),\n",
       " (0.42482840454267856,\n",
       "  ('Mileage', 'Liter', 'Doors', 'Cruise', 'Sound', 'Leather')),\n",
       " (0.42441824017998775,\n",
       "  ('Mileage', 'Cylinder', 'Liter', 'Doors', 'Cruise', 'Sound')),\n",
       " (0.42409748258510405, ('Mileage', 'Cylinder', 'Doors', 'Cruise', 'Sound')),\n",
       " (0.4225307670398467, ('Mileage', 'Cylinder', 'Liter', 'Cruise', 'Leather')),\n",
       " (0.42250742147747633, ('Mileage', 'Cylinder', 'Cruise', 'Leather')),\n",
       " (0.41965804777032434, ('Mileage', 'Cylinder', 'Liter', 'Doors', 'Cruise')),\n",
       " (0.41914964510731756, ('Mileage', 'Cylinder', 'Doors', 'Cruise')),\n",
       " (0.4188394218057132, ('Cylinder', 'Liter', 'Doors', 'Cruise', 'Leather')),\n",
       " (0.417760273701972, ('Cylinder', 'Doors', 'Cruise', 'Leather')),\n",
       " (0.41650804904235117, ('Mileage', 'Liter', 'Cruise', 'Sound', 'Leather')),\n",
       " (0.4140092231630349, ('Mileage', 'Liter', 'Doors', 'Cruise', 'Leather')),\n",
       " (0.4107029526441045, ('Cylinder', 'Liter', 'Cruise', 'Sound', 'Leather')),\n",
       " (0.4106549415858882, ('Cylinder', 'Cruise', 'Sound', 'Leather')),\n",
       " (0.40678789687026895, ('Mileage', 'Liter', 'Cruise', 'Leather')),\n",
       " (0.40654915865835195, ('Mileage', 'Cylinder', 'Liter', 'Cruise', 'Sound')),\n",
       " (0.4061644982625815, ('Mileage', 'Cylinder', 'Cruise', 'Sound')),\n",
       " (0.4050927515057854, ('Cylinder', 'Liter', 'Doors', 'Cruise', 'Sound')),\n",
       " (0.4046230709865988, ('Cylinder', 'Doors', 'Cruise', 'Sound')),\n",
       " (0.40380376425767606, ('Cylinder', 'Liter', 'Cruise', 'Leather')),\n",
       " (0.40380272693971553, ('Cylinder', 'Cruise', 'Leather')),\n",
       " (0.40346337208358085, ('Liter', 'Doors', 'Cruise', 'Sound', 'Leather')),\n",
       " (0.4031213170211536, ('Mileage', 'Liter', 'Doors', 'Cruise', 'Sound')),\n",
       " (0.4025842618924307, ('Mileage', 'Cylinder', 'Liter', 'Cruise')),\n",
       " (0.4023745860316018, ('Mileage', 'Cylinder', 'Cruise')),\n",
       " (0.40087486932703054, ('Cylinder', 'Liter', 'Doors', 'Cruise')),\n",
       " (0.4001989079545567, ('Cylinder', 'Doors', 'Cruise')),\n",
       " (0.39653266980131807, ('Mileage', 'Liter', 'Doors', 'Cruise')),\n",
       " (0.39564260736568424, ('Liter', 'Cruise', 'Sound', 'Leather')),\n",
       " (0.39346849142215834, ('Mileage', 'Liter', 'Cruise', 'Sound')),\n",
       " (0.39345887351036224, ('Liter', 'Doors', 'Cruise', 'Leather')),\n",
       " (0.38792398390551597, ('Mileage', 'Liter', 'Cruise')),\n",
       " (0.3875431216736017, ('Cylinder', 'Liter', 'Cruise', 'Sound')),\n",
       " (0.3873058022296456, ('Cylinder', 'Cruise', 'Sound')),\n",
       " (0.38665505937731115, ('Liter', 'Cruise', 'Leather')),\n",
       " (0.38406220085245035, ('Cylinder', 'Liter', 'Cruise')),\n",
       " (0.3839491324027344, ('Cylinder', 'Cruise')),\n",
       " (0.38271504500215814,\n",
       "  ('Mileage', 'Cylinder', 'Liter', 'Doors', 'Sound', 'Leather')),\n",
       " (0.38258521179336924, ('Mileage', 'Cylinder', 'Doors', 'Sound', 'Leather')),\n",
       " (0.38218087776588217, ('Liter', 'Doors', 'Cruise', 'Sound')),\n",
       " (0.3761916805347969, ('Liter', 'Doors', 'Cruise')),\n",
       " (0.3730745596141458, ('Liter', 'Cruise', 'Sound')),\n",
       " (0.37136690890240664, ('Mileage', 'Cylinder', 'Liter', 'Doors', 'Leather')),\n",
       " (0.3713319983845196, ('Mileage', 'Cylinder', 'Doors', 'Leather')),\n",
       " (0.3680458490296844, ('Liter', 'Cruise')),\n",
       " (0.36771522262682865, ('Mileage', 'Cylinder', 'Liter', 'Doors', 'Sound')),\n",
       " (0.3674991296973681, ('Mileage', 'Cylinder', 'Doors', 'Sound')),\n",
       " (0.365294232839972, ('Mileage', 'Cylinder', 'Liter', 'Sound', 'Leather')),\n",
       " (0.36516944395094475, ('Cylinder', 'Liter', 'Doors', 'Sound', 'Leather')),\n",
       " (0.36511700356207033, ('Cylinder', 'Doors', 'Sound', 'Leather')),\n",
       " (0.36329101174690714, ('Mileage', 'Liter', 'Doors', 'Sound', 'Leather')),\n",
       " (0.3627841037859246, ('Mileage', 'Cylinder', 'Sound', 'Leather')),\n",
       " (0.3601250633027093, ('Mileage', 'Cylinder', 'Liter', 'Doors')),\n",
       " (0.3600299189649303, ('Mileage', 'Cylinder', 'Doors')),\n",
       " (0.3549404430557511, ('Mileage', 'Cylinder', 'Liter', 'Leather')),\n",
       " (0.3547068894092531, ('Cylinder', 'Liter', 'Doors', 'Leather')),\n",
       " (0.35470261300089967, ('Cylinder', 'Doors', 'Leather')),\n",
       " (0.35363153818528126, ('Mileage', 'Liter', 'Sound', 'Leather')),\n",
       " (0.35303578931823965, ('Mileage', 'Cylinder', 'Leather')),\n",
       " (0.35038121816111245, ('Cylinder', 'Liter', 'Doors', 'Sound')),\n",
       " (0.3502699330133767, ('Cylinder', 'Doors', 'Sound')),\n",
       " (0.34940517971815854, ('Mileage', 'Liter', 'Doors', 'Leather')),\n",
       " (0.34885465224422074, ('Mileage', 'Cylinder', 'Liter', 'Sound')),\n",
       " (0.34830222786670784, ('Mileage', 'Liter', 'Doors', 'Sound')),\n",
       " (0.3480558393745631, ('Cylinder', 'Liter', 'Sound', 'Leather')),\n",
       " (0.345985332754168, ('Cylinder', 'Sound', 'Leather')),\n",
       " (0.34579303945195394, ('Mileage', 'Cylinder', 'Sound')),\n",
       " (0.3442397580756412, ('Liter', 'Doors', 'Sound', 'Leather')),\n",
       " (0.3434954780689595, ('Cylinder', 'Liter', 'Doors')),\n",
       " (0.343460536583038, ('Cylinder', 'Doors')),\n",
       " (0.34228021178720835, ('Mileage', 'Cylinder', 'Liter')),\n",
       " (0.34105691618639966, ('Mileage', 'Liter', 'Leather')),\n",
       " (0.33982070826367505, ('Mileage', 'Cylinder')),\n",
       " (0.33859102766485816, ('Mileage', 'Liter', 'Doors')),\n",
       " (0.33853269361625415, ('Cylinder', 'Liter', 'Leather')),\n",
       " (0.3375252452641956, ('Mileage', 'Liter', 'Sound')),\n",
       " (0.33698000644980597, ('Cylinder', 'Leather')),\n",
       " (0.33511407076463473, ('Liter', 'Sound', 'Leather')),\n",
       " (0.3318486045315714, ('Cylinder', 'Liter', 'Sound')),\n",
       " (0.3312844538529036, ('Liter', 'Doors', 'Leather')),\n",
       " (0.32947196699054004, ('Liter', 'Doors', 'Sound')),\n",
       " (0.32927527347959384, ('Cylinder', 'Sound')),\n",
       " (0.3291279066854156, ('Mileage', 'Liter')),\n",
       " (0.32591551601566593, ('Cylinder', 'Liter')),\n",
       " (0.32385903759512247, ('Cylinder',)),\n",
       " (0.32337917189904186, ('Liter', 'Leather')),\n",
       " (0.3205156407766834, ('Liter', 'Doors')),\n",
       " (0.31926427639502897, ('Liter', 'Sound')),\n",
       " (0.31152674427904514, ('Liter',)),\n",
       " (0.272825947675678, ('Mileage', 'Doors', 'Cruise', 'Sound', 'Leather')),\n",
       " (0.2594013856567562, ('Mileage', 'Cruise', 'Sound', 'Leather')),\n",
       " (0.256654781261192, ('Mileage', 'Doors', 'Cruise', 'Leather')),\n",
       " (0.2474491349580754, ('Doors', 'Cruise', 'Sound', 'Leather')),\n",
       " (0.24484643441472975, ('Mileage', 'Cruise', 'Leather')),\n",
       " (0.23464406340531807, ('Cruise', 'Sound', 'Leather')),\n",
       " (0.23336920288580454, ('Mileage', 'Doors', 'Cruise', 'Sound')),\n",
       " (0.23229120295179528, ('Doors', 'Cruise', 'Leather')),\n",
       " (0.2239031407636466, ('Mileage', 'Doors', 'Cruise')),\n",
       " (0.22100420521798458, ('Cruise', 'Leather')),\n",
       " (0.21721656906779274, ('Mileage', 'Cruise', 'Sound')),\n",
       " (0.2093138558315859, ('Mileage', 'Cruise')),\n",
       " (0.2083536888853531, ('Doors', 'Cruise', 'Sound')),\n",
       " (0.19963824689216159, ('Doors', 'Cruise')),\n",
       " (0.19288948066869638, ('Cruise', 'Sound')),\n",
       " (0.1856330092969275, ('Cruise',)),\n",
       " (0.08933709379370702, ('Mileage', 'Doors', 'Sound', 'Leather')),\n",
       " (0.06965940622436506, ('Mileage', 'Sound', 'Leather')),\n",
       " (0.0668731331618887, ('Doors', 'Sound', 'Leather')),\n",
       " (0.06256392121987708, ('Mileage', 'Doors', 'Leather')),\n",
       " (0.05925054392042661, ('Mileage', 'Doors', 'Sound')),\n",
       " (0.04795369092082746, ('Sound', 'Leather')),\n",
       " (0.04521956340886857, ('Mileage', 'Leather')),\n",
       " (0.04141817346866039, ('Doors', 'Leather')),\n",
       " (0.04039914867118721, ('Mileage', 'Doors')),\n",
       " (0.0370162877090342, ('Doors', 'Sound')),\n",
       " (0.036881215967350056, ('Mileage', 'Sound')),\n",
       " (0.024710851264124534, ('Leather',)),\n",
       " (0.02046344732348948, ('Mileage',)),\n",
       " (0.019251466591467037, ('Doors',)),\n",
       " (0.015462387624189167, ('Sound',))]"
      ]
     },
     "execution_count": 22,
     "metadata": {},
     "output_type": "execute_result"
    }
   ],
   "source": [
    "combo_scores = all_combo_scores(combos, df)\n",
    "sorted(combo_scores.items(), key=lambda c: c[0], reverse=True)"
   ]
  },
  {
   "cell_type": "markdown",
   "metadata": {
    "id": "JkTh0DkJ2E6n"
   },
   "source": [
    "#There is no combination that produces a strong relation\n",
    "\n",
    "#Comparitively these are  best possible feature combinations with highest R2 score.\n",
    "0.4462643536728379- \n",
    "('Mileage', 'Cylinder', 'Liter', 'Doors', 'Cruise', 'Sound', 'Leather')\n",
    "\n",
    "0.44569092105870245-\n",
    "('Mileage', 'Cylinder', 'Doors', 'Cruise', 'Sound', 'Leather')\n",
    "\n",
    "0.437805741536638-\n",
    "('Mileage', 'Cylinder', 'Liter', 'Doors', 'Cruise', 'Leather')\n",
    "\n",
    "#The cylinder feature has the high score of 0.32385903759512247"
   ]
  },
  {
   "cell_type": "markdown",
   "metadata": {
    "id": "-qj65d-G20Sz"
   },
   "source": [
    "#**Tasks-Hard Mode**\n",
    "1.Research dummy variables in scikit-learn to see how to use the make, model, and body type.\n",
    "\n",
    "2.Find the best combination of factors to predict price.\n"
   ]
  },
  {
   "cell_type": "code",
   "execution_count": 23,
   "metadata": {
    "colab": {
     "base_uri": "https://localhost:8080/"
    },
    "id": "EPO-HuWJvcUx",
    "outputId": "25c373c4-d7f1-463a-da53-41e74f91862b"
   },
   "outputs": [
    {
     "data": {
      "text/plain": [
       "Index(['Price', 'Mileage', 'Make', 'Model', 'Trim', 'Type', 'Cylinder',\n",
       "       'Liter', 'Doors', 'Cruise', 'Sound', 'Leather'],\n",
       "      dtype='object')"
      ]
     },
     "execution_count": 23,
     "metadata": {},
     "output_type": "execute_result"
    }
   ],
   "source": [
    "df.columns"
   ]
  },
  {
   "cell_type": "code",
   "execution_count": 24,
   "metadata": {
    "id": "gVSGujsI-M5u"
   },
   "outputs": [],
   "source": [
    "df.drop(['Trim'],axis=1,inplace=True)"
   ]
  },
  {
   "cell_type": "code",
   "execution_count": 25,
   "metadata": {
    "colab": {
     "base_uri": "https://localhost:8080/",
     "height": 461
    },
    "id": "ZgDOlpDMwn_4",
    "outputId": "d8f873a2-9e29-4022-e997-414a473f4329"
   },
   "outputs": [
    {
     "data": {
      "text/html": [
       "<div>\n",
       "<style scoped>\n",
       "    .dataframe tbody tr th:only-of-type {\n",
       "        vertical-align: middle;\n",
       "    }\n",
       "\n",
       "    .dataframe tbody tr th {\n",
       "        vertical-align: top;\n",
       "    }\n",
       "\n",
       "    .dataframe thead th {\n",
       "        text-align: right;\n",
       "    }\n",
       "</style>\n",
       "<table border=\"1\" class=\"dataframe\">\n",
       "  <thead>\n",
       "    <tr style=\"text-align: right;\">\n",
       "      <th></th>\n",
       "      <th>Price</th>\n",
       "      <th>Mileage</th>\n",
       "      <th>Cylinder</th>\n",
       "      <th>Liter</th>\n",
       "      <th>Doors</th>\n",
       "      <th>Cruise</th>\n",
       "      <th>Sound</th>\n",
       "      <th>Leather</th>\n",
       "      <th>Buick</th>\n",
       "      <th>Cadillac</th>\n",
       "      <th>Chevrolet</th>\n",
       "      <th>Pontiac</th>\n",
       "      <th>SAAB</th>\n",
       "      <th>Saturn</th>\n",
       "      <th>9-2X AWD</th>\n",
       "      <th>9_3</th>\n",
       "      <th>9_3 HO</th>\n",
       "      <th>9_5</th>\n",
       "      <th>9_5 HO</th>\n",
       "      <th>AVEO</th>\n",
       "      <th>Bonneville</th>\n",
       "      <th>CST-V</th>\n",
       "      <th>CTS</th>\n",
       "      <th>Cavalier</th>\n",
       "      <th>Century</th>\n",
       "      <th>Classic</th>\n",
       "      <th>Cobalt</th>\n",
       "      <th>Corvette</th>\n",
       "      <th>Deville</th>\n",
       "      <th>G6</th>\n",
       "      <th>GTO</th>\n",
       "      <th>Grand Am</th>\n",
       "      <th>Grand Prix</th>\n",
       "      <th>Impala</th>\n",
       "      <th>Ion</th>\n",
       "      <th>L Series</th>\n",
       "      <th>Lacrosse</th>\n",
       "      <th>Lesabre</th>\n",
       "      <th>Malibu</th>\n",
       "      <th>Monte Carlo</th>\n",
       "      <th>Park Avenue</th>\n",
       "      <th>STS-V6</th>\n",
       "      <th>STS-V8</th>\n",
       "      <th>Sunfire</th>\n",
       "      <th>Vibe</th>\n",
       "      <th>XLR-V8</th>\n",
       "      <th>Convertible</th>\n",
       "      <th>Coupe</th>\n",
       "      <th>Hatchback</th>\n",
       "      <th>Sedan</th>\n",
       "      <th>Wagon</th>\n",
       "    </tr>\n",
       "  </thead>\n",
       "  <tbody>\n",
       "    <tr>\n",
       "      <th>0</th>\n",
       "      <td>17314.103129</td>\n",
       "      <td>8221</td>\n",
       "      <td>6</td>\n",
       "      <td>3.1</td>\n",
       "      <td>4</td>\n",
       "      <td>1</td>\n",
       "      <td>1</td>\n",
       "      <td>1</td>\n",
       "      <td>1</td>\n",
       "      <td>0</td>\n",
       "      <td>0</td>\n",
       "      <td>0</td>\n",
       "      <td>0</td>\n",
       "      <td>0</td>\n",
       "      <td>0</td>\n",
       "      <td>0</td>\n",
       "      <td>0</td>\n",
       "      <td>0</td>\n",
       "      <td>0</td>\n",
       "      <td>0</td>\n",
       "      <td>0</td>\n",
       "      <td>0</td>\n",
       "      <td>0</td>\n",
       "      <td>0</td>\n",
       "      <td>1</td>\n",
       "      <td>0</td>\n",
       "      <td>0</td>\n",
       "      <td>0</td>\n",
       "      <td>0</td>\n",
       "      <td>0</td>\n",
       "      <td>0</td>\n",
       "      <td>0</td>\n",
       "      <td>0</td>\n",
       "      <td>0</td>\n",
       "      <td>0</td>\n",
       "      <td>0</td>\n",
       "      <td>0</td>\n",
       "      <td>0</td>\n",
       "      <td>0</td>\n",
       "      <td>0</td>\n",
       "      <td>0</td>\n",
       "      <td>0</td>\n",
       "      <td>0</td>\n",
       "      <td>0</td>\n",
       "      <td>0</td>\n",
       "      <td>0</td>\n",
       "      <td>0</td>\n",
       "      <td>0</td>\n",
       "      <td>0</td>\n",
       "      <td>1</td>\n",
       "      <td>0</td>\n",
       "    </tr>\n",
       "    <tr>\n",
       "      <th>1</th>\n",
       "      <td>17542.036083</td>\n",
       "      <td>9135</td>\n",
       "      <td>6</td>\n",
       "      <td>3.1</td>\n",
       "      <td>4</td>\n",
       "      <td>1</td>\n",
       "      <td>1</td>\n",
       "      <td>0</td>\n",
       "      <td>1</td>\n",
       "      <td>0</td>\n",
       "      <td>0</td>\n",
       "      <td>0</td>\n",
       "      <td>0</td>\n",
       "      <td>0</td>\n",
       "      <td>0</td>\n",
       "      <td>0</td>\n",
       "      <td>0</td>\n",
       "      <td>0</td>\n",
       "      <td>0</td>\n",
       "      <td>0</td>\n",
       "      <td>0</td>\n",
       "      <td>0</td>\n",
       "      <td>0</td>\n",
       "      <td>0</td>\n",
       "      <td>1</td>\n",
       "      <td>0</td>\n",
       "      <td>0</td>\n",
       "      <td>0</td>\n",
       "      <td>0</td>\n",
       "      <td>0</td>\n",
       "      <td>0</td>\n",
       "      <td>0</td>\n",
       "      <td>0</td>\n",
       "      <td>0</td>\n",
       "      <td>0</td>\n",
       "      <td>0</td>\n",
       "      <td>0</td>\n",
       "      <td>0</td>\n",
       "      <td>0</td>\n",
       "      <td>0</td>\n",
       "      <td>0</td>\n",
       "      <td>0</td>\n",
       "      <td>0</td>\n",
       "      <td>0</td>\n",
       "      <td>0</td>\n",
       "      <td>0</td>\n",
       "      <td>0</td>\n",
       "      <td>0</td>\n",
       "      <td>0</td>\n",
       "      <td>1</td>\n",
       "      <td>0</td>\n",
       "    </tr>\n",
       "    <tr>\n",
       "      <th>2</th>\n",
       "      <td>16218.847862</td>\n",
       "      <td>13196</td>\n",
       "      <td>6</td>\n",
       "      <td>3.1</td>\n",
       "      <td>4</td>\n",
       "      <td>1</td>\n",
       "      <td>1</td>\n",
       "      <td>0</td>\n",
       "      <td>1</td>\n",
       "      <td>0</td>\n",
       "      <td>0</td>\n",
       "      <td>0</td>\n",
       "      <td>0</td>\n",
       "      <td>0</td>\n",
       "      <td>0</td>\n",
       "      <td>0</td>\n",
       "      <td>0</td>\n",
       "      <td>0</td>\n",
       "      <td>0</td>\n",
       "      <td>0</td>\n",
       "      <td>0</td>\n",
       "      <td>0</td>\n",
       "      <td>0</td>\n",
       "      <td>0</td>\n",
       "      <td>1</td>\n",
       "      <td>0</td>\n",
       "      <td>0</td>\n",
       "      <td>0</td>\n",
       "      <td>0</td>\n",
       "      <td>0</td>\n",
       "      <td>0</td>\n",
       "      <td>0</td>\n",
       "      <td>0</td>\n",
       "      <td>0</td>\n",
       "      <td>0</td>\n",
       "      <td>0</td>\n",
       "      <td>0</td>\n",
       "      <td>0</td>\n",
       "      <td>0</td>\n",
       "      <td>0</td>\n",
       "      <td>0</td>\n",
       "      <td>0</td>\n",
       "      <td>0</td>\n",
       "      <td>0</td>\n",
       "      <td>0</td>\n",
       "      <td>0</td>\n",
       "      <td>0</td>\n",
       "      <td>0</td>\n",
       "      <td>0</td>\n",
       "      <td>1</td>\n",
       "      <td>0</td>\n",
       "    </tr>\n",
       "    <tr>\n",
       "      <th>3</th>\n",
       "      <td>16336.913140</td>\n",
       "      <td>16342</td>\n",
       "      <td>6</td>\n",
       "      <td>3.1</td>\n",
       "      <td>4</td>\n",
       "      <td>1</td>\n",
       "      <td>0</td>\n",
       "      <td>0</td>\n",
       "      <td>1</td>\n",
       "      <td>0</td>\n",
       "      <td>0</td>\n",
       "      <td>0</td>\n",
       "      <td>0</td>\n",
       "      <td>0</td>\n",
       "      <td>0</td>\n",
       "      <td>0</td>\n",
       "      <td>0</td>\n",
       "      <td>0</td>\n",
       "      <td>0</td>\n",
       "      <td>0</td>\n",
       "      <td>0</td>\n",
       "      <td>0</td>\n",
       "      <td>0</td>\n",
       "      <td>0</td>\n",
       "      <td>1</td>\n",
       "      <td>0</td>\n",
       "      <td>0</td>\n",
       "      <td>0</td>\n",
       "      <td>0</td>\n",
       "      <td>0</td>\n",
       "      <td>0</td>\n",
       "      <td>0</td>\n",
       "      <td>0</td>\n",
       "      <td>0</td>\n",
       "      <td>0</td>\n",
       "      <td>0</td>\n",
       "      <td>0</td>\n",
       "      <td>0</td>\n",
       "      <td>0</td>\n",
       "      <td>0</td>\n",
       "      <td>0</td>\n",
       "      <td>0</td>\n",
       "      <td>0</td>\n",
       "      <td>0</td>\n",
       "      <td>0</td>\n",
       "      <td>0</td>\n",
       "      <td>0</td>\n",
       "      <td>0</td>\n",
       "      <td>0</td>\n",
       "      <td>1</td>\n",
       "      <td>0</td>\n",
       "    </tr>\n",
       "    <tr>\n",
       "      <th>4</th>\n",
       "      <td>16339.170324</td>\n",
       "      <td>19832</td>\n",
       "      <td>6</td>\n",
       "      <td>3.1</td>\n",
       "      <td>4</td>\n",
       "      <td>1</td>\n",
       "      <td>0</td>\n",
       "      <td>1</td>\n",
       "      <td>1</td>\n",
       "      <td>0</td>\n",
       "      <td>0</td>\n",
       "      <td>0</td>\n",
       "      <td>0</td>\n",
       "      <td>0</td>\n",
       "      <td>0</td>\n",
       "      <td>0</td>\n",
       "      <td>0</td>\n",
       "      <td>0</td>\n",
       "      <td>0</td>\n",
       "      <td>0</td>\n",
       "      <td>0</td>\n",
       "      <td>0</td>\n",
       "      <td>0</td>\n",
       "      <td>0</td>\n",
       "      <td>1</td>\n",
       "      <td>0</td>\n",
       "      <td>0</td>\n",
       "      <td>0</td>\n",
       "      <td>0</td>\n",
       "      <td>0</td>\n",
       "      <td>0</td>\n",
       "      <td>0</td>\n",
       "      <td>0</td>\n",
       "      <td>0</td>\n",
       "      <td>0</td>\n",
       "      <td>0</td>\n",
       "      <td>0</td>\n",
       "      <td>0</td>\n",
       "      <td>0</td>\n",
       "      <td>0</td>\n",
       "      <td>0</td>\n",
       "      <td>0</td>\n",
       "      <td>0</td>\n",
       "      <td>0</td>\n",
       "      <td>0</td>\n",
       "      <td>0</td>\n",
       "      <td>0</td>\n",
       "      <td>0</td>\n",
       "      <td>0</td>\n",
       "      <td>1</td>\n",
       "      <td>0</td>\n",
       "    </tr>\n",
       "    <tr>\n",
       "      <th>5</th>\n",
       "      <td>15709.052821</td>\n",
       "      <td>22236</td>\n",
       "      <td>6</td>\n",
       "      <td>3.1</td>\n",
       "      <td>4</td>\n",
       "      <td>1</td>\n",
       "      <td>1</td>\n",
       "      <td>0</td>\n",
       "      <td>1</td>\n",
       "      <td>0</td>\n",
       "      <td>0</td>\n",
       "      <td>0</td>\n",
       "      <td>0</td>\n",
       "      <td>0</td>\n",
       "      <td>0</td>\n",
       "      <td>0</td>\n",
       "      <td>0</td>\n",
       "      <td>0</td>\n",
       "      <td>0</td>\n",
       "      <td>0</td>\n",
       "      <td>0</td>\n",
       "      <td>0</td>\n",
       "      <td>0</td>\n",
       "      <td>0</td>\n",
       "      <td>1</td>\n",
       "      <td>0</td>\n",
       "      <td>0</td>\n",
       "      <td>0</td>\n",
       "      <td>0</td>\n",
       "      <td>0</td>\n",
       "      <td>0</td>\n",
       "      <td>0</td>\n",
       "      <td>0</td>\n",
       "      <td>0</td>\n",
       "      <td>0</td>\n",
       "      <td>0</td>\n",
       "      <td>0</td>\n",
       "      <td>0</td>\n",
       "      <td>0</td>\n",
       "      <td>0</td>\n",
       "      <td>0</td>\n",
       "      <td>0</td>\n",
       "      <td>0</td>\n",
       "      <td>0</td>\n",
       "      <td>0</td>\n",
       "      <td>0</td>\n",
       "      <td>0</td>\n",
       "      <td>0</td>\n",
       "      <td>0</td>\n",
       "      <td>1</td>\n",
       "      <td>0</td>\n",
       "    </tr>\n",
       "    <tr>\n",
       "      <th>6</th>\n",
       "      <td>15230.003390</td>\n",
       "      <td>22576</td>\n",
       "      <td>6</td>\n",
       "      <td>3.1</td>\n",
       "      <td>4</td>\n",
       "      <td>1</td>\n",
       "      <td>1</td>\n",
       "      <td>0</td>\n",
       "      <td>1</td>\n",
       "      <td>0</td>\n",
       "      <td>0</td>\n",
       "      <td>0</td>\n",
       "      <td>0</td>\n",
       "      <td>0</td>\n",
       "      <td>0</td>\n",
       "      <td>0</td>\n",
       "      <td>0</td>\n",
       "      <td>0</td>\n",
       "      <td>0</td>\n",
       "      <td>0</td>\n",
       "      <td>0</td>\n",
       "      <td>0</td>\n",
       "      <td>0</td>\n",
       "      <td>0</td>\n",
       "      <td>1</td>\n",
       "      <td>0</td>\n",
       "      <td>0</td>\n",
       "      <td>0</td>\n",
       "      <td>0</td>\n",
       "      <td>0</td>\n",
       "      <td>0</td>\n",
       "      <td>0</td>\n",
       "      <td>0</td>\n",
       "      <td>0</td>\n",
       "      <td>0</td>\n",
       "      <td>0</td>\n",
       "      <td>0</td>\n",
       "      <td>0</td>\n",
       "      <td>0</td>\n",
       "      <td>0</td>\n",
       "      <td>0</td>\n",
       "      <td>0</td>\n",
       "      <td>0</td>\n",
       "      <td>0</td>\n",
       "      <td>0</td>\n",
       "      <td>0</td>\n",
       "      <td>0</td>\n",
       "      <td>0</td>\n",
       "      <td>0</td>\n",
       "      <td>1</td>\n",
       "      <td>0</td>\n",
       "    </tr>\n",
       "    <tr>\n",
       "      <th>7</th>\n",
       "      <td>15048.042184</td>\n",
       "      <td>22964</td>\n",
       "      <td>6</td>\n",
       "      <td>3.1</td>\n",
       "      <td>4</td>\n",
       "      <td>1</td>\n",
       "      <td>1</td>\n",
       "      <td>0</td>\n",
       "      <td>1</td>\n",
       "      <td>0</td>\n",
       "      <td>0</td>\n",
       "      <td>0</td>\n",
       "      <td>0</td>\n",
       "      <td>0</td>\n",
       "      <td>0</td>\n",
       "      <td>0</td>\n",
       "      <td>0</td>\n",
       "      <td>0</td>\n",
       "      <td>0</td>\n",
       "      <td>0</td>\n",
       "      <td>0</td>\n",
       "      <td>0</td>\n",
       "      <td>0</td>\n",
       "      <td>0</td>\n",
       "      <td>1</td>\n",
       "      <td>0</td>\n",
       "      <td>0</td>\n",
       "      <td>0</td>\n",
       "      <td>0</td>\n",
       "      <td>0</td>\n",
       "      <td>0</td>\n",
       "      <td>0</td>\n",
       "      <td>0</td>\n",
       "      <td>0</td>\n",
       "      <td>0</td>\n",
       "      <td>0</td>\n",
       "      <td>0</td>\n",
       "      <td>0</td>\n",
       "      <td>0</td>\n",
       "      <td>0</td>\n",
       "      <td>0</td>\n",
       "      <td>0</td>\n",
       "      <td>0</td>\n",
       "      <td>0</td>\n",
       "      <td>0</td>\n",
       "      <td>0</td>\n",
       "      <td>0</td>\n",
       "      <td>0</td>\n",
       "      <td>0</td>\n",
       "      <td>1</td>\n",
       "      <td>0</td>\n",
       "    </tr>\n",
       "    <tr>\n",
       "      <th>8</th>\n",
       "      <td>14862.093870</td>\n",
       "      <td>24021</td>\n",
       "      <td>6</td>\n",
       "      <td>3.1</td>\n",
       "      <td>4</td>\n",
       "      <td>1</td>\n",
       "      <td>0</td>\n",
       "      <td>1</td>\n",
       "      <td>1</td>\n",
       "      <td>0</td>\n",
       "      <td>0</td>\n",
       "      <td>0</td>\n",
       "      <td>0</td>\n",
       "      <td>0</td>\n",
       "      <td>0</td>\n",
       "      <td>0</td>\n",
       "      <td>0</td>\n",
       "      <td>0</td>\n",
       "      <td>0</td>\n",
       "      <td>0</td>\n",
       "      <td>0</td>\n",
       "      <td>0</td>\n",
       "      <td>0</td>\n",
       "      <td>0</td>\n",
       "      <td>1</td>\n",
       "      <td>0</td>\n",
       "      <td>0</td>\n",
       "      <td>0</td>\n",
       "      <td>0</td>\n",
       "      <td>0</td>\n",
       "      <td>0</td>\n",
       "      <td>0</td>\n",
       "      <td>0</td>\n",
       "      <td>0</td>\n",
       "      <td>0</td>\n",
       "      <td>0</td>\n",
       "      <td>0</td>\n",
       "      <td>0</td>\n",
       "      <td>0</td>\n",
       "      <td>0</td>\n",
       "      <td>0</td>\n",
       "      <td>0</td>\n",
       "      <td>0</td>\n",
       "      <td>0</td>\n",
       "      <td>0</td>\n",
       "      <td>0</td>\n",
       "      <td>0</td>\n",
       "      <td>0</td>\n",
       "      <td>0</td>\n",
       "      <td>1</td>\n",
       "      <td>0</td>\n",
       "    </tr>\n",
       "    <tr>\n",
       "      <th>9</th>\n",
       "      <td>15295.018267</td>\n",
       "      <td>27325</td>\n",
       "      <td>6</td>\n",
       "      <td>3.1</td>\n",
       "      <td>4</td>\n",
       "      <td>1</td>\n",
       "      <td>1</td>\n",
       "      <td>1</td>\n",
       "      <td>1</td>\n",
       "      <td>0</td>\n",
       "      <td>0</td>\n",
       "      <td>0</td>\n",
       "      <td>0</td>\n",
       "      <td>0</td>\n",
       "      <td>0</td>\n",
       "      <td>0</td>\n",
       "      <td>0</td>\n",
       "      <td>0</td>\n",
       "      <td>0</td>\n",
       "      <td>0</td>\n",
       "      <td>0</td>\n",
       "      <td>0</td>\n",
       "      <td>0</td>\n",
       "      <td>0</td>\n",
       "      <td>1</td>\n",
       "      <td>0</td>\n",
       "      <td>0</td>\n",
       "      <td>0</td>\n",
       "      <td>0</td>\n",
       "      <td>0</td>\n",
       "      <td>0</td>\n",
       "      <td>0</td>\n",
       "      <td>0</td>\n",
       "      <td>0</td>\n",
       "      <td>0</td>\n",
       "      <td>0</td>\n",
       "      <td>0</td>\n",
       "      <td>0</td>\n",
       "      <td>0</td>\n",
       "      <td>0</td>\n",
       "      <td>0</td>\n",
       "      <td>0</td>\n",
       "      <td>0</td>\n",
       "      <td>0</td>\n",
       "      <td>0</td>\n",
       "      <td>0</td>\n",
       "      <td>0</td>\n",
       "      <td>0</td>\n",
       "      <td>0</td>\n",
       "      <td>1</td>\n",
       "      <td>0</td>\n",
       "    </tr>\n",
       "  </tbody>\n",
       "</table>\n",
       "</div>"
      ],
      "text/plain": [
       "          Price  Mileage  Cylinder  Liter  Doors  Cruise  Sound  Leather  \\\n",
       "0  17314.103129     8221         6    3.1      4       1      1        1   \n",
       "1  17542.036083     9135         6    3.1      4       1      1        0   \n",
       "2  16218.847862    13196         6    3.1      4       1      1        0   \n",
       "3  16336.913140    16342         6    3.1      4       1      0        0   \n",
       "4  16339.170324    19832         6    3.1      4       1      0        1   \n",
       "5  15709.052821    22236         6    3.1      4       1      1        0   \n",
       "6  15230.003390    22576         6    3.1      4       1      1        0   \n",
       "7  15048.042184    22964         6    3.1      4       1      1        0   \n",
       "8  14862.093870    24021         6    3.1      4       1      0        1   \n",
       "9  15295.018267    27325         6    3.1      4       1      1        1   \n",
       "\n",
       "   Buick  Cadillac  Chevrolet  Pontiac  SAAB  Saturn  9-2X AWD  9_3  9_3 HO  \\\n",
       "0      1         0          0        0     0       0         0    0       0   \n",
       "1      1         0          0        0     0       0         0    0       0   \n",
       "2      1         0          0        0     0       0         0    0       0   \n",
       "3      1         0          0        0     0       0         0    0       0   \n",
       "4      1         0          0        0     0       0         0    0       0   \n",
       "5      1         0          0        0     0       0         0    0       0   \n",
       "6      1         0          0        0     0       0         0    0       0   \n",
       "7      1         0          0        0     0       0         0    0       0   \n",
       "8      1         0          0        0     0       0         0    0       0   \n",
       "9      1         0          0        0     0       0         0    0       0   \n",
       "\n",
       "   9_5  9_5 HO  AVEO  Bonneville  CST-V  CTS  Cavalier  Century  Classic  \\\n",
       "0    0       0     0           0      0    0         0        1        0   \n",
       "1    0       0     0           0      0    0         0        1        0   \n",
       "2    0       0     0           0      0    0         0        1        0   \n",
       "3    0       0     0           0      0    0         0        1        0   \n",
       "4    0       0     0           0      0    0         0        1        0   \n",
       "5    0       0     0           0      0    0         0        1        0   \n",
       "6    0       0     0           0      0    0         0        1        0   \n",
       "7    0       0     0           0      0    0         0        1        0   \n",
       "8    0       0     0           0      0    0         0        1        0   \n",
       "9    0       0     0           0      0    0         0        1        0   \n",
       "\n",
       "   Cobalt  Corvette  Deville  G6  GTO  Grand Am  Grand Prix  Impala  Ion  \\\n",
       "0       0         0        0   0    0         0           0       0    0   \n",
       "1       0         0        0   0    0         0           0       0    0   \n",
       "2       0         0        0   0    0         0           0       0    0   \n",
       "3       0         0        0   0    0         0           0       0    0   \n",
       "4       0         0        0   0    0         0           0       0    0   \n",
       "5       0         0        0   0    0         0           0       0    0   \n",
       "6       0         0        0   0    0         0           0       0    0   \n",
       "7       0         0        0   0    0         0           0       0    0   \n",
       "8       0         0        0   0    0         0           0       0    0   \n",
       "9       0         0        0   0    0         0           0       0    0   \n",
       "\n",
       "   L Series  Lacrosse  Lesabre  Malibu  Monte Carlo  Park Avenue  STS-V6  \\\n",
       "0         0         0        0       0            0            0       0   \n",
       "1         0         0        0       0            0            0       0   \n",
       "2         0         0        0       0            0            0       0   \n",
       "3         0         0        0       0            0            0       0   \n",
       "4         0         0        0       0            0            0       0   \n",
       "5         0         0        0       0            0            0       0   \n",
       "6         0         0        0       0            0            0       0   \n",
       "7         0         0        0       0            0            0       0   \n",
       "8         0         0        0       0            0            0       0   \n",
       "9         0         0        0       0            0            0       0   \n",
       "\n",
       "   STS-V8  Sunfire  Vibe  XLR-V8  Convertible  Coupe  Hatchback  Sedan  Wagon  \n",
       "0       0        0     0       0            0      0          0      1      0  \n",
       "1       0        0     0       0            0      0          0      1      0  \n",
       "2       0        0     0       0            0      0          0      1      0  \n",
       "3       0        0     0       0            0      0          0      1      0  \n",
       "4       0        0     0       0            0      0          0      1      0  \n",
       "5       0        0     0       0            0      0          0      1      0  \n",
       "6       0        0     0       0            0      0          0      1      0  \n",
       "7       0        0     0       0            0      0          0      1      0  \n",
       "8       0        0     0       0            0      0          0      1      0  \n",
       "9       0        0     0       0            0      0          0      1      0  "
      ]
     },
     "execution_count": 25,
     "metadata": {},
     "output_type": "execute_result"
    }
   ],
   "source": [
    "df_dummy = df.copy()\n",
    "\n",
    "df_make = pd.get_dummies(df['Make'])\n",
    "df_dummy[list(df_make.columns)] = df_make\n",
    "df_dummy.pop('Make')\n",
    "\n",
    "\n",
    "df_model = pd.get_dummies(df['Model'])\n",
    "df_dummy[list(df_model.columns)] = df_model\n",
    "df_dummy.pop('Model')\n",
    "\n",
    "df_type = pd.get_dummies(df['Type'])\n",
    "df_dummy[list(df_type.columns)] = df_type\n",
    "df_dummy.pop('Type')\n",
    "\n",
    "pd.set_option('display.max_columns', None)\n",
    "df_dummy.head(10)"
   ]
  },
  {
   "cell_type": "code",
   "execution_count": 26,
   "metadata": {
    "colab": {
     "base_uri": "https://localhost:8080/"
    },
    "id": "PYuUSat43POB",
    "outputId": "7cca2e82-d3ab-4460-a208-76367bff8ca4"
   },
   "outputs": [
    {
     "data": {
      "text/plain": [
       "Index(['Price', 'Mileage', 'Cylinder', 'Liter', 'Doors', 'Cruise', 'Sound',\n",
       "       'Leather', 'Buick', 'Cadillac', 'Chevrolet', 'Pontiac', 'SAAB',\n",
       "       'Saturn', '9-2X AWD', '9_3', '9_3 HO', '9_5', '9_5 HO', 'AVEO',\n",
       "       'Bonneville', 'CST-V', 'CTS', 'Cavalier', 'Century', 'Classic',\n",
       "       'Cobalt', 'Corvette', 'Deville', 'G6', 'GTO', 'Grand Am', 'Grand Prix',\n",
       "       'Impala', 'Ion', 'L Series', 'Lacrosse', 'Lesabre', 'Malibu',\n",
       "       'Monte Carlo', 'Park Avenue', 'STS-V6', 'STS-V8', 'Sunfire', 'Vibe',\n",
       "       'XLR-V8', 'Convertible', 'Coupe', 'Hatchback', 'Sedan', 'Wagon'],\n",
       "      dtype='object')"
      ]
     },
     "execution_count": 26,
     "metadata": {},
     "output_type": "execute_result"
    }
   ],
   "source": [
    "df_dummy.columns"
   ]
  },
  {
   "cell_type": "code",
   "execution_count": 27,
   "metadata": {
    "colab": {
     "base_uri": "https://localhost:8080/"
    },
    "id": "iaBYjiCz3e2l",
    "outputId": "8f1d507a-fb57-4c8c-a186-922b42593188"
   },
   "outputs": [
    {
     "data": {
      "text/plain": [
       "(804, 51)"
      ]
     },
     "execution_count": 27,
     "metadata": {},
     "output_type": "execute_result"
    }
   ],
   "source": [
    "df_dummy.shape"
   ]
  },
  {
   "cell_type": "markdown",
   "metadata": {
    "id": "7TF_aR7GBJf0"
   },
   "source": [
    "#2.Find the best combination of factors to predict price."
   ]
  },
  {
   "cell_type": "code",
   "execution_count": 28,
   "metadata": {
    "colab": {
     "base_uri": "https://localhost:8080/"
    },
    "id": "ngohuRsa5FxO",
    "outputId": "9fc71192-8780-4911-8d9e-fcea4c748803"
   },
   "outputs": [
    {
     "data": {
      "text/plain": [
       "[['Buick'],\n",
       " ['Cadillac'],\n",
       " ['Chevrolet'],\n",
       " ['Pontiac'],\n",
       " ['SAAB'],\n",
       " ['Saturn'],\n",
       " ['9-2X AWD'],\n",
       " ['9_3'],\n",
       " ['9_3 HO'],\n",
       " ['9_5'],\n",
       " ['9_5 HO'],\n",
       " ['AVEO'],\n",
       " ['Bonneville'],\n",
       " ['CST-V'],\n",
       " ['CTS'],\n",
       " ['Cavalier'],\n",
       " ['Century'],\n",
       " ['Classic'],\n",
       " ['Cobalt'],\n",
       " ['Corvette'],\n",
       " ['Deville'],\n",
       " ['G6'],\n",
       " ['GTO'],\n",
       " ['Grand Am'],\n",
       " ['Grand Prix'],\n",
       " ['Impala'],\n",
       " ['Ion'],\n",
       " ['L Series'],\n",
       " ['Lacrosse'],\n",
       " ['Lesabre'],\n",
       " ['Malibu'],\n",
       " ['Monte Carlo'],\n",
       " ['Park Avenue'],\n",
       " ['STS-V6'],\n",
       " ['STS-V8'],\n",
       " ['Sunfire'],\n",
       " ['Vibe'],\n",
       " ['XLR-V8'],\n",
       " ['Convertible'],\n",
       " ['Coupe'],\n",
       " ['Hatchback'],\n",
       " ['Sedan'],\n",
       " ['Wagon']]"
      ]
     },
     "execution_count": 28,
     "metadata": {},
     "output_type": "execute_result"
    }
   ],
   "source": [
    "columns = list(df_make.columns)\n",
    "columns.extend(df_model.columns)\n",
    "columns.extend(df_type.columns)\n",
    "input_cols = []\n",
    "for item in columns:\n",
    "    input_cols.append([item])\n",
    "input_cols"
   ]
  },
  {
   "cell_type": "markdown",
   "metadata": {
    "id": "ZYNM43VB8mjp"
   },
   "source": [
    "#I would like to look at all of the two-factor combinations of the features list that I use for Task 2 plus each of the new dummy columns. I would like to report what the highest scores are."
   ]
  },
  {
   "cell_type": "code",
   "execution_count": 29,
   "metadata": {
    "colab": {
     "base_uri": "https://localhost:8080/"
    },
    "id": "Onz2WhD53d-E",
    "outputId": "edf4df99-6f40-4a76-b64b-2903c3e6fa4c"
   },
   "outputs": [
    {
     "data": {
      "text/plain": [
       "[['Mileage', 'Cylinder'],\n",
       " ['Mileage', 'Liter'],\n",
       " ['Mileage', 'Doors'],\n",
       " ['Mileage', 'Cruise'],\n",
       " ['Mileage', 'Sound'],\n",
       " ['Mileage', 'Leather'],\n",
       " ['Cylinder', 'Liter'],\n",
       " ['Cylinder', 'Doors'],\n",
       " ['Cylinder', 'Cruise'],\n",
       " ['Cylinder', 'Sound'],\n",
       " ['Cylinder', 'Leather'],\n",
       " ['Liter', 'Doors'],\n",
       " ['Liter', 'Cruise'],\n",
       " ['Liter', 'Sound'],\n",
       " ['Liter', 'Leather'],\n",
       " ['Doors', 'Cruise'],\n",
       " ['Doors', 'Sound'],\n",
       " ['Doors', 'Leather'],\n",
       " ['Cruise', 'Sound'],\n",
       " ['Cruise', 'Leather'],\n",
       " ['Sound', 'Leather']]"
      ]
     },
     "execution_count": 29,
     "metadata": {},
     "output_type": "execute_result"
    }
   ],
   "source": [
    "features = ['Mileage','Cylinder','Liter', 'Doors', 'Cruise', 'Sound', 'Leather']\n",
    "combo_twos = list(it.combinations(features, 2))\n",
    "combo_twos_list = [[x[0], x[1]] for x in combo_twos]\n",
    "combo_twos_list"
   ]
  },
  {
   "cell_type": "code",
   "execution_count": 30,
   "metadata": {
    "id": "06CmslAG5Rb2"
   },
   "outputs": [],
   "source": [
    "\n",
    "from copy import deepcopy\n",
    "def all_combos_plus_scores(combos, combo_addition, df_dummy, focus='Price'):\n",
    "    scores = {}\n",
    "    for c_a in combo_addition:\n",
    "        combos_c = deepcopy(combos)\n",
    "        for cb in combos_c:\n",
    "            cb.extend(c_a)\n",
    "            scores[(cb[0], cb[1], cb[2])] = lin_r2(cb, df_dummy, focus)\n",
    "    return scores"
   ]
  },
  {
   "cell_type": "code",
   "execution_count": 31,
   "metadata": {
    "colab": {
     "base_uri": "https://localhost:8080/"
    },
    "id": "q3szGYG250SN",
    "outputId": "5d8149a5-ed85-4143-baa9-e3541dd33c91"
   },
   "outputs": [
    {
     "name": "stdout",
     "output_type": "stream",
     "text": [
      "0.6952326188089184 ('Mileage', 'Cylinder', 'SAAB')\n",
      "0.5827463723115367 ('Liter', 'Cruise', 'Cadillac')\n",
      "0.5818864330871814 ('Cylinder', 'Cruise', 'Convertible')\n",
      "0.5565646069943804 ('Cylinder', 'Doors', 'Coupe')\n",
      "0.5183767328460667 ('Liter', 'Cruise', 'XLR-V8')\n",
      "0.4677007997077758 ('Cylinder', 'Cruise', '9_3 HO')\n",
      "0.4613141274953029 ('Cylinder', 'Doors', 'Chevrolet')\n",
      "0.4403137783141914 ('Cylinder', 'Cruise', '9_5')\n",
      "0.42327964442945454 ('Cylinder', 'Cruise', 'Pontiac')\n",
      "0.4209127935020318 ('Cylinder', 'Cruise', 'Wagon')\n",
      "0.41425766320268764 ('Cylinder', 'Cruise', '9_3')\n",
      "0.40949081345574223 ('Cylinder', 'Cruise', '9_5 HO')\n",
      "0.40853637029735634 ('Cylinder', 'Cruise', 'Sedan')\n",
      "0.40801434993536767 ('Cylinder', 'Cruise', 'Buick')\n",
      "0.4066332114627612 ('Cylinder', 'Cruise', 'CST-V')\n",
      "0.406198138021149 ('Cylinder', 'Cruise', 'Grand Prix')\n",
      "0.4039216683852761 ('Cylinder', 'Cruise', 'Malibu')\n",
      "0.4028424051921041 ('Cylinder', 'Cruise', 'STS-V6')\n",
      "0.4024100042889771 ('Cylinder', 'Cruise', 'Bonneville')\n",
      "0.40004372446701564 ('Cylinder', 'Cruise', 'STS-V8')\n",
      "0.39842141293627487 ('Cylinder', 'Cruise', 'Corvette')\n",
      "0.39838871876587123 ('Cylinder', 'Cruise', 'AVEO')\n",
      "0.3971171080018443 ('Cylinder', 'Cruise', 'Hatchback')\n",
      "0.39603239888509245 ('Cylinder', 'Cruise', 'Monte Carlo')\n",
      "0.3956764388041559 ('Cylinder', 'Cruise', 'Impala')\n",
      "0.3952228755517406 ('Cylinder', 'Cruise', 'Century')\n",
      "0.39390560365869576 ('Cylinder', 'Cruise', 'L Series')\n",
      "0.39279238337721234 ('Cylinder', 'Cruise', 'Cavalier')\n",
      "0.39246844285202576 ('Cylinder', 'Cruise', 'Lesabre')\n",
      "0.39241204113961725 ('Cylinder', 'Cruise', 'G6')\n",
      "0.39198203662200237 ('Cylinder', 'Cruise', 'Deville')\n",
      "0.3911870776515759 ('Cylinder', 'Cruise', 'Lacrosse')\n",
      "0.3888935871374648 ('Cylinder', 'Cruise', 'Saturn')\n",
      "0.3873857443756108 ('Cylinder', 'Cruise', 'CTS')\n",
      "0.3860906791282612 ('Cylinder', 'Cruise', '9-2X AWD')\n",
      "0.3855847281336112 ('Cylinder', 'Cruise', 'Sunfire')\n",
      "0.38553761936177544 ('Cylinder', 'Cruise', 'Grand Am')\n",
      "0.3854757724638267 ('Cylinder', 'Cruise', 'Cobalt')\n",
      "0.3851417642289876 ('Cylinder', 'Cruise', 'GTO')\n",
      "0.38484791198079804 ('Cylinder', 'Cruise', 'Ion')\n",
      "0.38472021078824337 ('Cylinder', 'Cruise', 'Vibe')\n",
      "0.3844335361243536 ('Cylinder', 'Cruise', 'Classic')\n",
      "0.3843919122029713 ('Cylinder', 'Cruise', 'Park Avenue')\n"
     ]
    }
   ],
   "source": [
    "car_data_combos = all_combos_plus_scores(combo_twos_list, input_cols, df_dummy)\n",
    "car_data_combos_list = sorted(car_data_combos.items(), key=lambda c: c[1], reverse=True)\n",
    "max_dict = {}\n",
    "for score_ in car_data_combos_list:\n",
    "    try:\n",
    "        max_dict[score_[0][2]]\n",
    "    except:\n",
    "        max_dict[score_[0][2]] = score_[1]\n",
    "        print(score_[1], score_[0])"
   ]
  },
  {
   "cell_type": "markdown",
   "metadata": {
    "id": "xEZEIkaoA9IW"
   },
   "source": [
    "Above are the dominant two feature factors for each of the dummy variables; Cylinder and Cruise are the leading factors in the vast majority."
   ]
  },
  {
   "cell_type": "markdown",
   "metadata": {
    "id": "pqNQ5DzZ6Qpt"
   },
   "source": [
    "\n",
    "#The R2 score of each dummy variable is\n",
    "\n",
    "\n",
    "\n"
   ]
  },
  {
   "cell_type": "code",
   "execution_count": 32,
   "metadata": {
    "colab": {
     "base_uri": "https://localhost:8080/"
    },
    "id": "GG1sdkYU6Hyo",
    "outputId": "b55d7ed1-cad3-4523-8697-7a97bd447784"
   },
   "outputs": [
    {
     "name": "stdout",
     "output_type": "stream",
     "text": [
      "0.43467222055774146 Cadillac\n",
      "0.2580823726662361 Convertible\n",
      "0.22329254532193277 XLR-V8\n",
      "0.16369972777296582 Chevrolet\n",
      "0.11249608486981633 SAAB\n",
      "0.09268208373129971 AVEO\n",
      "0.08811897712425065 Deville\n",
      "0.08294059063514281 Corvette\n",
      "0.07236606185907579 CST-V\n",
      "0.060443061923161845 STS-V8\n",
      "0.059386315780149634 Cavalier\n",
      "0.04481729286980152 Saturn\n",
      "0.044294927303921816 9_3 HO\n",
      "0.042509414286992286 Hatchback\n",
      "0.04218076819132699 Ion\n",
      "0.03711188670126875 Cobalt\n",
      "0.0331684123827396 STS-V6\n",
      "0.02992939459223687 9_5\n",
      "0.028253210000207085 Coupe\n",
      "0.020191011838045725 Pontiac\n",
      "0.01551727999156971 9_3\n",
      "0.01441266225511073 Malibu\n",
      "0.012235997496740647 9_5 HO\n",
      "0.011848005294655573 Vibe\n",
      "0.010715368384112356 CTS\n",
      "0.00990383596925093 Sunfire\n",
      "0.008683138908399224 Grand Am\n",
      "0.007825848896145682 GTO\n",
      "0.007741907120061953 Classic\n",
      "0.004735027107433676 Grand Prix\n",
      "0.003698911729677512 Century\n",
      "0.0029638255654020895 L Series\n",
      "0.0020370652981834825 Wagon\n",
      "0.001866756188844798 Park Avenue\n",
      "0.00121119693448557 Sedan\n",
      "0.0008950546441520713 Monte Carlo\n",
      "0.0008009183526633823 Impala\n",
      "0.00076410284018813 Lesabre\n",
      "0.0007473731721009402 G6\n",
      "0.0006705949575458447 9-2X AWD\n",
      "0.0003156955904867198 Buick\n",
      "7.927732740453663e-05 Bonneville\n",
      "2.795124819021666e-05 Lacrosse\n"
     ]
    }
   ],
   "source": [
    "car_data_2 = {}\n",
    "for item in deepcopy(input_cols):\n",
    "    car_data_2[item[0]] = lin_r2(item, df_dummy)\n",
    "\n",
    "score_list2 = sorted(car_data_2.items(), key=lambda c: c[1], reverse=True)\n",
    "for score in score_list2:\n",
    "    print(score[1], score[0])"
   ]
  },
  {
   "cell_type": "markdown",
   "metadata": {
    "id": "8Y6XM7P-CFMv"
   },
   "source": [
    "#We are taking the best three R2 score dummy variables Cadillac, Convertible,XLR-V8 into account and find the model R2 score\n",
    "\n"
   ]
  },
  {
   "cell_type": "code",
   "execution_count": 33,
   "metadata": {
    "colab": {
     "base_uri": "https://localhost:8080/"
    },
    "id": "caa4QbSYCFbq",
    "outputId": "e5292a86-9d5a-496d-ca2e-703d37be1064"
   },
   "outputs": [
    {
     "data": {
      "text/plain": [
       "0.8205076058696161"
      ]
     },
     "execution_count": 33,
     "metadata": {},
     "output_type": "execute_result"
    }
   ],
   "source": [
    "f = features + ['Cadillac', 'Convertible', 'XLR-V8']\n",
    "lin_r2(f, df_dummy)"
   ]
  },
  {
   "cell_type": "markdown",
   "metadata": {
    "id": "I74FxskqB2zT"
   },
   "source": [
    "#These three factors are enough to consider the model as a good model.\n"
   ]
  },
  {
   "cell_type": "code",
   "execution_count": 34,
   "metadata": {
    "colab": {
     "base_uri": "https://localhost:8080/"
    },
    "id": "uLEjP5qXBoAL",
    "outputId": "8a9e1f14-6daa-44ef-c079-53f674819a6c"
   },
   "outputs": [
    {
     "data": {
      "text/plain": [
       "0.8301641680699674"
      ]
     },
     "execution_count": 34,
     "metadata": {},
     "output_type": "execute_result"
    }
   ],
   "source": [
    "#If we take Cadillac, Convertible,Chevrolet as features then R2 will be\n",
    "f = features + ['Cadillac', 'Convertible', 'Chevrolet']\n",
    "lin_r2(f, df_dummy)"
   ]
  },
  {
   "cell_type": "code",
   "execution_count": 35,
   "metadata": {
    "colab": {
     "base_uri": "https://localhost:8080/"
    },
    "id": "CQrWoBJXDROY",
    "outputId": "257ebdaa-d05f-4f48-fa6d-5c1dadca8de0"
   },
   "outputs": [
    {
     "data": {
      "text/plain": [
       "0.8230830294947846"
      ]
     },
     "execution_count": 35,
     "metadata": {},
     "output_type": "execute_result"
    }
   ],
   "source": [
    "f = ['Cadillac', 'Convertible', 'Chevrolet', 'Mileage', 'Cylinder', 'Cruise', 'Liter']\n",
    "lin_r2(f,df_dummy)"
   ]
  },
  {
   "cell_type": "markdown",
   "metadata": {
    "id": "E3fRRKETDv24"
   },
   "source": [
    "#So we can conclude that the three factors from Model,Make and Type needs to be considered along other numerical features to get the best model with a R2 score of 0.823"
   ]
  }
 ],
 "metadata": {
  "colab": {
   "collapsed_sections": [],
   "name": "Task6-Assignment8.ipynb",
   "provenance": []
  },
  "kernelspec": {
   "display_name": "Python 3",
   "language": "python",
   "name": "python3"
  },
  "language_info": {
   "codemirror_mode": {
    "name": "ipython",
    "version": 3
   },
   "file_extension": ".py",
   "mimetype": "text/x-python",
   "name": "python",
   "nbconvert_exporter": "python",
   "pygments_lexer": "ipython3",
   "version": "3.8.5"
  }
 },
 "nbformat": 4,
 "nbformat_minor": 1
}
