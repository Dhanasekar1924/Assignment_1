{
 "cells": [
  {
   "cell_type": "code",
   "execution_count": 1,
   "metadata": {},
   "outputs": [],
   "source": [
    "import pymongo\n",
    "from pymongo import MongoClient\n",
    "client = pymongo.MongoClient(\"mongodb://localhost:27017\")\n",
    "db=client.students \n",
    "records=db.students_scores"
   ]
  },
  {
   "cell_type": "code",
   "execution_count": 2,
   "metadata": {},
   "outputs": [],
   "source": [
    "import json\n",
    "with open('students.json') as f:\n",
    "    data = [json.loads(line) for line in f]"
   ]
  },
  {
   "cell_type": "code",
   "execution_count": 3,
   "metadata": {},
   "outputs": [
    {
     "data": {
      "text/plain": [
       "<pymongo.results.InsertManyResult at 0x1c8d64c0610>"
      ]
     },
     "execution_count": 3,
     "metadata": {},
     "output_type": "execute_result"
    }
   ],
   "source": [
    "records.insert_many(data)"
   ]
  },
  {
   "cell_type": "code",
   "execution_count": 24,
   "metadata": {},
   "outputs": [
    {
     "name": "stdout",
     "output_type": "stream",
     "text": [
      "{'_id': 'null', 'Max_Marks': 99.33685767140612}\n",
      "{'_id': 136, 'name': 'Margart Vitello'}\n",
      "The student who scored the maximum mark of 99.33685767140612 in Exam is Margart Vitello\n",
      "The student who scored the maximum mark of 99.80348240553108 in Quiz is Cody Strouth\n",
      "The student who scored the maximum mark of 99.77237745070993 in Homework is Whitley Fears\n"
     ]
    }
   ],
   "source": [
    "####Find the student name who scored maximum scores in all (exam, quiz and homework)?\n",
    "Exam_max=records.aggregate([{\"$unwind\":\"$scores\"},{\"$match\":{\"scores.type\":\"exam\"}},{\"$group\":{\"_id\":\"null\",\"Max_Marks\":{\"$max\":\"$scores.score\"}}}])\n",
    "Max_Marks=0\n",
    "for i in Exam_max:\n",
    "    Max_Marks=i[\"Max_Marks\"]\n",
    "Max=records.find({\"scores.score\":Max_Marks},{\"_id\":1,\"name\":1})\n",
    "\n",
    "for i in Max:\n",
    "    Name=i['name']\n",
    "    print(f'The student who scored the maximum mark of {Max_Marks} in Exam is {Name}')\n",
    "Max_Quiz=records.aggregate([{\"$unwind\":\"$scores\"},{\"$match\":{\"scores.type\":\"quiz\"}},{\"$group\":{\"_id\":\"null\",\"Max_Marks\":{\"$max\":\"$scores.score\"}}}])\n",
    "Max_Marks=0\n",
    "for i in Max_Quiz:\n",
    "    Max_Marks=i[\"Max_Marks\"]\n",
    "Max=records.find({\"scores.score\":Max_Marks},{\"_id\":1,\"name\":1})\n",
    "for i in Max:\n",
    "    Name=i['name']\n",
    "    print(f'The student who scored the maximum mark of {Max_Marks} in Quiz is {Name}')\n",
    "Max_HW=records.aggregate([{\"$unwind\":\"$scores\"},{\"$match\":{\"scores.type\":\"homework\"}},{\"$group\":{\"_id\":\"null\",\"Max_Marks\":{\"$max\":\"$scores.score\"}}}])\n",
    "Max_Marks=0\n",
    "for i in Max_HW:\n",
    "    Max_Marks=i[\"Max_Marks\"]\n",
    "Max=records.find({\"scores.score\":Max_Marks},{\"_id\":1,\"name\":1})\n",
    "for i in Max:\n",
    "    Name=i['name']\n",
    "    print(f'The student who scored the maximum mark of {Max_Marks} in Homework is {Name}')"
   ]
  },
  {
   "cell_type": "code",
   "execution_count": 6,
   "metadata": {},
   "outputs": [
    {
     "name": "stdout",
     "output_type": "stream",
     "text": [
      "aimee Zank\n",
      "Wilburn Spiess\n",
      "Jenette Flanders\n",
      "Daphne Zheng\n",
      "Denisha Cast\n",
      "Alix Sherrill\n",
      "Dodie Staller\n",
      "Fletcher Mcconnell\n",
      "Gisela Levin\n",
      "Tressa Schwing\n",
      "Rosana Vales\n",
      "Tamika Schildgen\n",
      "Jonie Raby\n",
      "Edgar Sarkis\n",
      "Laureen Salomone\n",
      "Gwyneth Garling\n",
      "Kaila Deibler\n",
      "Tandra Meadows\n",
      "Carli Belvins\n",
      "Synthia Labelle\n",
      "Richelle Siemers\n",
      "Mariette Batdorf\n",
      "Aleida Elsass\n",
      "Kayce Kenyon\n",
      "Ernestine Macfarland\n",
      "Terica Brugger\n",
      "Lady Lefevers\n",
      "Barbera Lippman\n",
      "Alica Pasley\n",
      "Malisa Jeanes\n",
      "Danika Loeffler\n",
      "Chad Rahe\n",
      "Joaquina Arbuckle\n",
      "Dusti Lemmond\n",
      "Rubie Winton\n",
      "Kim Xu\n",
      "Jenise Mcguffie\n",
      "Cody Strouth\n",
      "Harriett Velarde\n",
      "Leola Lundin\n",
      "Len Treiber\n",
      "Echo Pippins\n",
      "Santiago Dollins\n",
      "Tonisha Games\n",
      "Brain Lachapelle\n",
      "Toshiko Sabella\n",
      "Cassi Heal\n",
      "Ty Barbieri\n",
      "Ta Sikorski\n",
      "Lucinda Vanderburg\n",
      "Darby Wass\n",
      "Omar Bowdoin\n",
      "Demarcus Audette\n",
      "Tania Hulett\n",
      "Karry Petrarca\n",
      "Flora Duell\n",
      "aimee Zank\n",
      "Aurelia Menendez\n",
      "Bao Ziglar\n",
      "Jenette Flanders\n",
      "Salena Olmos\n",
      "Sanda Ryba\n",
      "Denisha Cast\n",
      "Quincy Danaher\n",
      "Alix Sherrill\n",
      "Fletcher Mcconnell\n",
      "Verdell Sowinski\n",
      "Gisela Levin\n",
      "Rosana Vales\n",
      "Tamika Schildgen\n",
      "Jesusa Rickenbacker\n",
      "Rudolph Domingo\n",
      "Jonie Raby\n",
      "Laureen Salomone\n",
      "Gwyneth Garling\n",
      "Kaila Deibler\n",
      "Tandra Meadows\n",
      "Gwen Honig\n",
      "Sadie Jernigan\n",
      "Synthia Labelle\n",
      "Aleida Elsass\n",
      "Ernestine Macfarland\n",
      "Kurtis Jiles\n",
      "Barbera Lippman\n",
      "Dinah Sauve\n",
      "Alica Pasley\n",
      "Elizabet Kleine\n",
      "Malisa Jeanes\n",
      "Joel Rueter\n",
      "Joaquina Arbuckle\n",
      "Grady Zemke\n",
      "Rubie Winton\n",
      "Whitley Fears\n",
      "Kim Xu\n",
      "Merissa Mann\n",
      "Cody Strouth\n",
      "Harriett Velarde\n",
      "Leonida Lafond\n",
      "Devorah Smartt\n",
      "Len Treiber\n",
      "Mariela Sherer\n",
      "Echo Pippins\n",
      "Tonisha Games\n",
      "Timothy Harrod\n"
     ]
    }
   ],
   "source": [
    "###Find students who scored below average in the exam and pass mark is 40%?\n",
    "Avg_Marks=records.aggregate([{\"$unwind\":\"$scores\"},{\"$match\":{\"scores.type\":\"exam\"}},{\"$group\":{\"_id\":\"null\",\"Avg_Mark\":{\"$avg\":\"$scores.score\"}}}])\n",
    "for i in Avg_Marks:\n",
    "    Avg_Mark=i[\"Avg_Mark\"]\n",
    "Bel_Avg=records.aggregate([{\"$unwind\":\"$scores\"},{\"$match\":{\"scores.type\":\"exam\"}},{\"$match\":{\"scores.score\":{\"$lt\":Avg_Mark}}}])\n",
    "for i in Bel_Avg:\n",
    "    print(i['name'])"
   ]
  },
  {
   "cell_type": "code",
   "execution_count": 7,
   "metadata": {},
   "outputs": [],
   "source": [
    "###Find students who scored below pass mark and assigned them as fail, and above pass mark as pass in all the categories.\n",
    "Result=records.aggregate([{\"$unwind\":\"$scores\"},{\"$match\":{\"scores.type\":\"exam\"}},{\"$match\":{\"scores.score\":{\"$lt\":40}}}])\n",
    "for i in Result:\n",
    "    records.update_one({\"_id\":i[\"_id\"]},{\"$push\":{\"Result.Result_Exam\":\"Fail\"}})\n",
    "\n",
    "Result=records.aggregate([{\"$unwind\":\"$scores\"},{\"$match\":{\"scores.type\":\"exam\"}},{\"$match\":{\"scores.score\":{\"$gte\":40}}}])\n",
    "for i in Result:\n",
    "    records.update_one({\"_id\":i[\"_id\"]},{\"$push\":{\"Result.Result_Exam\":\"Pass\"}})\n",
    "\n",
    "Result=records.aggregate([{\"$unwind\":\"$scores\"},{\"$match\":{\"scores.type\":\"quiz\"}},{\"$match\":{\"scores.score\":{\"$lt\":40}}}])\n",
    "for i in Result:\n",
    "    records.update_one({\"_id\":i[\"_id\"]},{\"$push\":{\"Result.Result_Quiz\":\"Fail\"}})\n",
    "\n",
    "Result=records.aggregate([{\"$unwind\":\"$scores\"},{\"$match\":{\"scores.type\":\"quiz\"}},{\"$match\":{\"scores.score\":{\"$gte\":40}}}])\n",
    "for i in Result:\n",
    "    records.update_one({\"_id\":i[\"_id\"]},{\"$push\":{\"Result.Result_Quiz\":\"Pass\"}})\n",
    "\n",
    "Result=records.aggregate([{\"$unwind\":\"$scores\"},{\"$match\":{\"scores.type\":\"homework\"}},{\"$match\":{\"scores.score\":{\"$lt\":40}}}])\n",
    "for i in Result:\n",
    "    records.update_one({\"_id\":i[\"_id\"]},{\"$push\":{\"Result.Result_HW\":\"Fail\"}})\n",
    "\n",
    "Result=records.aggregate([{\"$unwind\":\"$scores\"},{\"$match\":{\"scores.type\":\"homework\"}},{\"$match\":{\"scores.score\":{\"$gte\":40}}}])\n",
    "for i in Result:\n",
    "    records.update_one({\"_id\":i[\"_id\"]},{\"$push\":{\"Result.Result_HW\":\"Pass\"}})"
   ]
  },
  {
   "cell_type": "code",
   "execution_count": null,
   "metadata": {},
   "outputs": [],
   "source": [
    "###Find the total and average of the exam, quiz and homework and store them in a separate collection."
   ]
  },
  {
   "cell_type": "code",
   "execution_count": 8,
   "metadata": {},
   "outputs": [],
   "source": [
    "Total_Avg=db.Total_Avg"
   ]
  },
  {
   "cell_type": "code",
   "execution_count": 9,
   "metadata": {},
   "outputs": [
    {
     "data": {
      "text/plain": [
       "<pymongo.results.InsertManyResult at 0x1c8d64c0c70>"
      ]
     },
     "execution_count": 9,
     "metadata": {},
     "output_type": "execute_result"
    }
   ],
   "source": [
    "E_Total=records.aggregate([{\"$unwind\":\"$scores\"},{\"$match\":{\"scores.type\":\"exam\"}},{\"$group\":{\"_id\":\"null\",\"Total_Exam\":{\"$sum\":\"$scores.score\"}}}])\n",
    "for i in E_Total:\n",
    "    Total_Exam=i[\"Total_Exam\"]\n",
    "Q_Total=records.aggregate([{\"$unwind\":\"$scores\"},{\"$match\":{\"scores.type\":\"quiz\"}},{\"$group\":{\"_id\":\"null\",\"Total_Quiz\":{\"$sum\":\"$scores.score\"}}}])\n",
    "for i in Q_Total:\n",
    "    Total_Quiz=i[\"Total_Quiz\"]\n",
    "HW_Total=records.aggregate([{\"$unwind\":\"$scores\"},{\"$match\":{\"scores.type\":\"homework\"}},{\"$group\":{\"_id\":\"null\",\"Total_HW\":{\"$sum\":\"$scores.score\"}}}])\n",
    "for i in HW_Total:\n",
    "    Total_HW=i[\"Total_HW\"]\n",
    "Total=[{'Type':\"Exam\",\"Total\":Total_Exam},{'Type':\"Quiz\",\"Total\":Total_Quiz},{'Type':\"HW\",\"Total\":Total_HW}]\n",
    "Total_Avg.insert_many(Total)"
   ]
  },
  {
   "cell_type": "code",
   "execution_count": 10,
   "metadata": {},
   "outputs": [
    {
     "data": {
      "text/plain": [
       "<pymongo.results.InsertManyResult at 0x1c8d656a3d0>"
      ]
     },
     "execution_count": 10,
     "metadata": {},
     "output_type": "execute_result"
    }
   ],
   "source": [
    "E_Avg=records.aggregate([{\"$unwind\":\"$scores\"},{\"$match\":{\"scores.type\":\"exam\"}},{\"$group\":{\"_id\":\"null\",\"Avg_Exam\":{\"$avg\":\"$scores.score\"}}}])\n",
    "for i in E_Avg:\n",
    "    Avg_Exam=i[\"Avg_Exam\"]\n",
    "Q_Avg=records.aggregate([{\"$unwind\":\"$scores\"},{\"$match\":{\"scores.type\":\"quiz\"}},{\"$group\":{\"_id\":\"null\",\"Avg_Quiz\":{\"$avg\":\"$scores.score\"}}}])\n",
    "for i in Q_Avg:\n",
    "    Avg_Quiz=i[\"Avg_Quiz\"]\n",
    "HW_Avg=records.aggregate([{\"$unwind\":\"$scores\"},{\"$match\":{\"scores.type\":\"homework\"}},{\"$group\":{\"_id\":\"null\",\"Avg_HW\":{\"$avg\":\"$scores.score\"}}}])\n",
    "for i in HW_Avg:\n",
    "    Avg_HW=i[\"Avg_HW\"]\n",
    "Avg=[{'Type':\"Exam\",\"Avg\":Avg_Exam},{'Type':\"Quiz\",\"Avg\":Avg_Quiz},{'Type':\"HW\",\"Avg\":Avg_HW}]\n",
    "Total_Avg.insert_many(Avg)"
   ]
  },
  {
   "cell_type": "code",
   "execution_count": null,
   "metadata": {},
   "outputs": [],
   "source": [
    "###Create a new collection which consists of students who scored below average and above 40% in all the categories."
   ]
  },
  {
   "cell_type": "code",
   "execution_count": 11,
   "metadata": {},
   "outputs": [],
   "source": [
    "BAvg_APass=db.BAvg_APass"
   ]
  },
  {
   "cell_type": "code",
   "execution_count": 12,
   "metadata": {},
   "outputs": [],
   "source": [
    "BAvg_Apas=records.aggregate([{\"$unwind\":\"$scores\"},{\"$match\":{\"scores.type\":\"exam\"}},{\"$match\":{\"scores.score\":{\"$gt\":40,\"$lt\":Avg_Exam}}}])\n",
    "for i in BAvg_Apas:\n",
    "    Name=i['name']\n",
    "    Type=i['scores']['type']\n",
    "    BAvg_APass.insert_one({'Name':Name,'Type':Type})"
   ]
  },
  {
   "cell_type": "code",
   "execution_count": 13,
   "metadata": {},
   "outputs": [],
   "source": [
    "BAvg_Apas=records.aggregate([{\"$unwind\":\"$scores\"},{\"$match\":{\"scores.type\":\"quiz\"}},{\"$match\":{\"scores.score\":{\"$gt\":40,\"$lt\":Avg_Quiz}}}])\n",
    "for i in BAvg_Apas:\n",
    "    Name=i['name']\n",
    "    Type=i['scores']['type']\n",
    "    BAvg_APass.insert_one({'Name':Name,'Type':Type})"
   ]
  },
  {
   "cell_type": "code",
   "execution_count": 14,
   "metadata": {},
   "outputs": [],
   "source": [
    "BAvg_Apas=records.aggregate([{\"$unwind\":\"$scores\"},{\"$match\":{\"scores.type\":\"homework\"}},{\"$match\":{\"scores.score\":{\"$gt\":40,\"$lt\":Avg_HW}}}])\n",
    "for i in BAvg_Apas:\n",
    "    Name=i['name']\n",
    "    Type=i['scores']['type']\n",
    "    BAvg_APass.insert_one({'Name':Name,'Type':Type})"
   ]
  },
  {
   "cell_type": "code",
   "execution_count": null,
   "metadata": {},
   "outputs": [],
   "source": [
    "####Create a new collection which consists of students who scored below the fail mark in all the categories."
   ]
  },
  {
   "cell_type": "code",
   "execution_count": 15,
   "metadata": {},
   "outputs": [],
   "source": [
    "All_Fail=db.All_Fail"
   ]
  },
  {
   "cell_type": "code",
   "execution_count": 16,
   "metadata": {},
   "outputs": [],
   "source": [
    "Fail=records.aggregate([{\"$unwind\":\"$scores\"},{\"$match\":{\"scores.type\":\"exam\"}},{\"$unwind\":\"$Result\"},{\"$match\":{\"Result.Result_Exam\":\"Fail\"}},\n",
    "                        {\"$match\":{\"Result.Result_Quiz\":\"Fail\"}},{\"$match\":{\"Result.Result_HW\":\"Fail\"}}])\n",
    "for i in Fail:\n",
    "    Name=i['name']\n",
    "    All_Fail.insert_one({'Name':Name})"
   ]
  },
  {
   "cell_type": "code",
   "execution_count": 17,
   "metadata": {},
   "outputs": [],
   "source": [
    "### Create a new collection which consists of students who scored above pass mark in all the categories.\n",
    "All_Pass=db.All_Pass"
   ]
  },
  {
   "cell_type": "code",
   "execution_count": 18,
   "metadata": {},
   "outputs": [],
   "source": [
    "Pass=records.aggregate([{\"$unwind\":\"$scores\"},{\"$match\":{\"scores.type\":\"exam\"}},{\"$unwind\":\"$Result\"},{\"$match\":{\"Result.Result_Exam\":\"Pass\"}},\n",
    "                        {\"$match\":{\"Result.Result_Quiz\":\"Pass\"}},{\"$match\":{\"Result.Result_HW\":\"Pass\"}}])\n",
    "for i in Pass:\n",
    "    Name=i['name']\n",
    "    All_Pass.insert_one({'Name':Name})"
   ]
  }
 ],
 "metadata": {
  "kernelspec": {
   "display_name": "Python 3",
   "language": "python",
   "name": "python3"
  },
  "language_info": {
   "codemirror_mode": {
    "name": "ipython",
    "version": 3
   },
   "file_extension": ".py",
   "mimetype": "text/x-python",
   "name": "python",
   "nbconvert_exporter": "python",
   "pygments_lexer": "ipython3",
   "version": "3.8.5"
  }
 },
 "nbformat": 4,
 "nbformat_minor": 4
}
